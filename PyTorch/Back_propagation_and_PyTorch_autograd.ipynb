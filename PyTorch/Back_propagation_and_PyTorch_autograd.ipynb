{
  "nbformat": 4,
  "nbformat_minor": 0,
  "metadata": {
    "colab": {
      "name": "Back-propagation and PyTorch autograd.ipynb",
      "provenance": [],
      "include_colab_link": true
    },
    "kernelspec": {
      "name": "python3",
      "display_name": "Python 3"
    }
  },
  "cells": [
    {
      "cell_type": "markdown",
      "metadata": {
        "id": "view-in-github",
        "colab_type": "text"
      },
      "source": [
        "<a href=\"https://colab.research.google.com/github/nikku1234/pyTorch/blob/master/Back_propagation_and_PyTorch_autograd.ipynb\" target=\"_parent\"><img src=\"https://colab.research.google.com/assets/colab-badge.svg\" alt=\"Open In Colab\"/></a>"
      ]
    },
    {
      "cell_type": "code",
      "metadata": {
        "id": "Qa5XpM9eNekq",
        "colab_type": "code",
        "colab": {}
      },
      "source": [
        "import torch\n",
        "from torch.autograd import Variable"
      ],
      "execution_count": 0,
      "outputs": []
    },
    {
      "cell_type": "code",
      "metadata": {
        "id": "QN8TaI1tOTmZ",
        "colab_type": "code",
        "colab": {}
      },
      "source": [
        "x_data = [1.0,2.0,3.0]\n",
        "y_data = [2.0,3.0,4.0]\n",
        "w = Variable(torch.tensor([1.0]), requires_grad = True)  #Random variable"
      ],
      "execution_count": 0,
      "outputs": []
    },
    {
      "cell_type": "code",
      "metadata": {
        "id": "Yc_V7BUmOfEU",
        "colab_type": "code",
        "colab": {
          "base_uri": "https://localhost:8080/",
          "height": 340
        },
        "outputId": "a54a9159-0ec6-478b-9c97-7e5617acb20d"
      },
      "source": [
        "#creating a graph\n",
        "x = Variable(torch.rand(1,10))\n",
        "prev_h = Variable(torch.rand(1,20))\n",
        "W_h = Variable(torch.rand(20,20))\n",
        "W_x = Variable(torch.rand(20,10))\n",
        "\n",
        "i2h = torch.mm(W_x,x.t())\n",
        "h2h = torch.mm(W_h,prev_h.t())\n",
        "next_h = i2h + h2h\n",
        "next_h = next_h.tanh()\n",
        "\n",
        "next_h.backward(torch.ones(1,20))"
      ],
      "execution_count": 16,
      "outputs": [
        {
          "output_type": "error",
          "ename": "RuntimeError",
          "evalue": "ignored",
          "traceback": [
            "\u001b[0;31m---------------------------------------------------------------------------\u001b[0m",
            "\u001b[0;31mRuntimeError\u001b[0m                              Traceback (most recent call last)",
            "\u001b[0;32m<ipython-input-16-eca02e345bda>\u001b[0m in \u001b[0;36m<module>\u001b[0;34m()\u001b[0m\n\u001b[1;32m      9\u001b[0m \u001b[0mnext_h\u001b[0m \u001b[0;34m=\u001b[0m \u001b[0mnext_h\u001b[0m\u001b[0;34m.\u001b[0m\u001b[0mtanh\u001b[0m\u001b[0;34m(\u001b[0m\u001b[0;34m)\u001b[0m\u001b[0;34m\u001b[0m\u001b[0;34m\u001b[0m\u001b[0m\n\u001b[1;32m     10\u001b[0m \u001b[0;34m\u001b[0m\u001b[0m\n\u001b[0;32m---> 11\u001b[0;31m \u001b[0mnext_h\u001b[0m\u001b[0;34m.\u001b[0m\u001b[0mbackward\u001b[0m\u001b[0;34m(\u001b[0m\u001b[0mtorch\u001b[0m\u001b[0;34m.\u001b[0m\u001b[0mones\u001b[0m\u001b[0;34m(\u001b[0m\u001b[0;36m1\u001b[0m\u001b[0;34m,\u001b[0m\u001b[0;36m20\u001b[0m\u001b[0;34m)\u001b[0m\u001b[0;34m)\u001b[0m\u001b[0;34m\u001b[0m\u001b[0;34m\u001b[0m\u001b[0m\n\u001b[0m",
            "\u001b[0;32m/usr/local/lib/python3.6/dist-packages/torch/tensor.py\u001b[0m in \u001b[0;36mbackward\u001b[0;34m(self, gradient, retain_graph, create_graph)\u001b[0m\n\u001b[1;32m    164\u001b[0m                 \u001b[0mproducts\u001b[0m\u001b[0;34m.\u001b[0m \u001b[0mDefaults\u001b[0m \u001b[0mto\u001b[0m\u001b[0;31m \u001b[0m\u001b[0;31m`\u001b[0m\u001b[0;31m`\u001b[0m\u001b[0;32mFalse\u001b[0m\u001b[0;31m`\u001b[0m\u001b[0;31m`\u001b[0m\u001b[0;34m.\u001b[0m\u001b[0;34m\u001b[0m\u001b[0;34m\u001b[0m\u001b[0m\n\u001b[1;32m    165\u001b[0m         \"\"\"\n\u001b[0;32m--> 166\u001b[0;31m         \u001b[0mtorch\u001b[0m\u001b[0;34m.\u001b[0m\u001b[0mautograd\u001b[0m\u001b[0;34m.\u001b[0m\u001b[0mbackward\u001b[0m\u001b[0;34m(\u001b[0m\u001b[0mself\u001b[0m\u001b[0;34m,\u001b[0m \u001b[0mgradient\u001b[0m\u001b[0;34m,\u001b[0m \u001b[0mretain_graph\u001b[0m\u001b[0;34m,\u001b[0m \u001b[0mcreate_graph\u001b[0m\u001b[0;34m)\u001b[0m\u001b[0;34m\u001b[0m\u001b[0;34m\u001b[0m\u001b[0m\n\u001b[0m\u001b[1;32m    167\u001b[0m \u001b[0;34m\u001b[0m\u001b[0m\n\u001b[1;32m    168\u001b[0m     \u001b[0;32mdef\u001b[0m \u001b[0mregister_hook\u001b[0m\u001b[0;34m(\u001b[0m\u001b[0mself\u001b[0m\u001b[0;34m,\u001b[0m \u001b[0mhook\u001b[0m\u001b[0;34m)\u001b[0m\u001b[0;34m:\u001b[0m\u001b[0;34m\u001b[0m\u001b[0;34m\u001b[0m\u001b[0m\n",
            "\u001b[0;32m/usr/local/lib/python3.6/dist-packages/torch/autograd/__init__.py\u001b[0m in \u001b[0;36mbackward\u001b[0;34m(tensors, grad_tensors, retain_graph, create_graph, grad_variables)\u001b[0m\n\u001b[1;32m     91\u001b[0m         \u001b[0mgrad_tensors\u001b[0m \u001b[0;34m=\u001b[0m \u001b[0mlist\u001b[0m\u001b[0;34m(\u001b[0m\u001b[0mgrad_tensors\u001b[0m\u001b[0;34m)\u001b[0m\u001b[0;34m\u001b[0m\u001b[0;34m\u001b[0m\u001b[0m\n\u001b[1;32m     92\u001b[0m \u001b[0;34m\u001b[0m\u001b[0m\n\u001b[0;32m---> 93\u001b[0;31m     \u001b[0mgrad_tensors\u001b[0m \u001b[0;34m=\u001b[0m \u001b[0m_make_grads\u001b[0m\u001b[0;34m(\u001b[0m\u001b[0mtensors\u001b[0m\u001b[0;34m,\u001b[0m \u001b[0mgrad_tensors\u001b[0m\u001b[0;34m)\u001b[0m\u001b[0;34m\u001b[0m\u001b[0;34m\u001b[0m\u001b[0m\n\u001b[0m\u001b[1;32m     94\u001b[0m     \u001b[0;32mif\u001b[0m \u001b[0mretain_graph\u001b[0m \u001b[0;32mis\u001b[0m \u001b[0;32mNone\u001b[0m\u001b[0;34m:\u001b[0m\u001b[0;34m\u001b[0m\u001b[0;34m\u001b[0m\u001b[0m\n\u001b[1;32m     95\u001b[0m         \u001b[0mretain_graph\u001b[0m \u001b[0;34m=\u001b[0m \u001b[0mcreate_graph\u001b[0m\u001b[0;34m\u001b[0m\u001b[0;34m\u001b[0m\u001b[0m\n",
            "\u001b[0;32m/usr/local/lib/python3.6/dist-packages/torch/autograd/__init__.py\u001b[0m in \u001b[0;36m_make_grads\u001b[0;34m(outputs, grads)\u001b[0m\n\u001b[1;32m     27\u001b[0m                                    \u001b[0;34m+\u001b[0m \u001b[0mstr\u001b[0m\u001b[0;34m(\u001b[0m\u001b[0mgrad\u001b[0m\u001b[0;34m.\u001b[0m\u001b[0mshape\u001b[0m\u001b[0;34m)\u001b[0m \u001b[0;34m+\u001b[0m \u001b[0;34m\" and output[\"\u001b[0m\u001b[0;34m\u001b[0m\u001b[0;34m\u001b[0m\u001b[0m\n\u001b[1;32m     28\u001b[0m                                    \u001b[0;34m+\u001b[0m \u001b[0mstr\u001b[0m\u001b[0;34m(\u001b[0m\u001b[0moutputs\u001b[0m\u001b[0;34m.\u001b[0m\u001b[0mindex\u001b[0m\u001b[0;34m(\u001b[0m\u001b[0mout\u001b[0m\u001b[0;34m)\u001b[0m\u001b[0;34m)\u001b[0m \u001b[0;34m+\u001b[0m \u001b[0;34m\"] has a shape of \"\u001b[0m\u001b[0;34m\u001b[0m\u001b[0;34m\u001b[0m\u001b[0m\n\u001b[0;32m---> 29\u001b[0;31m                                    + str(out.shape) + \".\")\n\u001b[0m\u001b[1;32m     30\u001b[0m             \u001b[0mnew_grads\u001b[0m\u001b[0;34m.\u001b[0m\u001b[0mappend\u001b[0m\u001b[0;34m(\u001b[0m\u001b[0mgrad\u001b[0m\u001b[0;34m)\u001b[0m\u001b[0;34m\u001b[0m\u001b[0;34m\u001b[0m\u001b[0m\n\u001b[1;32m     31\u001b[0m         \u001b[0;32melif\u001b[0m \u001b[0mgrad\u001b[0m \u001b[0;32mis\u001b[0m \u001b[0;32mNone\u001b[0m\u001b[0;34m:\u001b[0m\u001b[0;34m\u001b[0m\u001b[0;34m\u001b[0m\u001b[0m\n",
            "\u001b[0;31mRuntimeError\u001b[0m: Mismatch in shape: grad_output[0] has a shape of torch.Size([1, 20]) and output[0] has a shape of torch.Size([20, 1])."
          ]
        }
      ]
    },
    {
      "cell_type": "code",
      "metadata": {
        "id": "CavD7E7aO3Eb",
        "colab_type": "code",
        "colab": {
          "base_uri": "https://localhost:8080/",
          "height": 34
        },
        "outputId": "30b03a57-7c81-4fae-dc9d-27c5e9e4f87b"
      },
      "source": [
        "# our model forward pass\n",
        "def forward(x):\n",
        "   return x * w\n",
        "\n",
        "# Loss function\n",
        "def loss(x, y):\n",
        "   y_pred = forward(x)\n",
        "   return (y_pred - y) * (y_pred - y)\n",
        "\n",
        "# Before training\n",
        "print(\"predict (before training)\",  4, forward(4).data[0])\n"
      ],
      "execution_count": 17,
      "outputs": [
        {
          "output_type": "stream",
          "text": [
            "predict (before training) 4 tensor(4.)\n"
          ],
          "name": "stdout"
        }
      ]
    },
    {
      "cell_type": "code",
      "metadata": {
        "id": "9bqTCgTWQnpr",
        "colab_type": "code",
        "colab": {
          "base_uri": "https://localhost:8080/",
          "height": 714
        },
        "outputId": "cd1a6bd0-0dc7-4aac-fc61-e6b62a85e820"
      },
      "source": [
        "for epoch in range(10):\n",
        "   for x_val, y_val in zip(x_data, y_data):\n",
        "       l = loss(x_val, y_val)\n",
        "       l.backward()\n",
        "       print(\"\\tgrad: \", x_val, y_val, w.grad.data[0])\n",
        "       w.data = w.data - 0.01 * w.grad.data\n",
        "\n",
        "       # Manually zero the gradients after updating weights\n",
        "       w.grad.data.zero_()\n",
        "\n",
        "   print(\"progress:\", epoch, l.data[0])\n",
        "\n",
        "# After training\n",
        "print(\"predict (after training)\",  4, forward(4).data[0])"
      ],
      "execution_count": 20,
      "outputs": [
        {
          "output_type": "stream",
          "text": [
            "\tgrad:  1.0 2.0 tensor(-2.)\n",
            "\tgrad:  2.0 3.0 tensor(-3.8400)\n",
            "\tgrad:  3.0 4.0 tensor(-4.9488)\n",
            "progress: 0 tensor(0.6803)\n",
            "\tgrad:  1.0 2.0 tensor(-1.7842)\n",
            "\tgrad:  2.0 3.0 tensor(-2.9942)\n",
            "\tgrad:  3.0 4.0 tensor(-3.1979)\n",
            "progress: 1 tensor(0.2841)\n",
            "\tgrad:  1.0 2.0 tensor(-1.6247)\n",
            "\tgrad:  2.0 3.0 tensor(-2.3688)\n",
            "\tgrad:  3.0 4.0 tensor(-1.9035)\n",
            "progress: 2 tensor(0.1006)\n",
            "\tgrad:  1.0 2.0 tensor(-1.5068)\n",
            "\tgrad:  2.0 3.0 tensor(-1.9065)\n",
            "\tgrad:  3.0 4.0 tensor(-0.9464)\n",
            "progress: 3 tensor(0.0249)\n",
            "\tgrad:  1.0 2.0 tensor(-1.4196)\n",
            "\tgrad:  2.0 3.0 tensor(-1.5647)\n",
            "\tgrad:  3.0 4.0 tensor(-0.2389)\n",
            "progress: 4 tensor(0.0016)\n",
            "\tgrad:  1.0 2.0 tensor(-1.3551)\n",
            "\tgrad:  2.0 3.0 tensor(-1.3120)\n",
            "\tgrad:  3.0 4.0 tensor(0.2842)\n",
            "progress: 5 tensor(0.0022)\n",
            "\tgrad:  1.0 2.0 tensor(-1.3074)\n",
            "\tgrad:  2.0 3.0 tensor(-1.1252)\n",
            "\tgrad:  3.0 4.0 tensor(0.6709)\n",
            "progress: 6 tensor(0.0125)\n",
            "\tgrad:  1.0 2.0 tensor(-1.2722)\n",
            "\tgrad:  2.0 3.0 tensor(-0.9871)\n",
            "\tgrad:  3.0 4.0 tensor(0.9568)\n",
            "progress: 7 tensor(0.0254)\n",
            "\tgrad:  1.0 2.0 tensor(-1.2462)\n",
            "\tgrad:  2.0 3.0 tensor(-0.8849)\n",
            "\tgrad:  3.0 4.0 tensor(1.1682)\n",
            "progress: 8 tensor(0.0379)\n",
            "\tgrad:  1.0 2.0 tensor(-1.2269)\n",
            "\tgrad:  2.0 3.0 tensor(-0.8094)\n",
            "\tgrad:  3.0 4.0 tensor(1.3244)\n",
            "progress: 9 tensor(0.0487)\n",
            "predict (after training) 4 tensor(5.5747)\n"
          ],
          "name": "stdout"
        }
      ]
    },
    {
      "cell_type": "code",
      "metadata": {
        "id": "1APr_uerQr5A",
        "colab_type": "code",
        "colab": {}
      },
      "source": [
        ""
      ],
      "execution_count": 0,
      "outputs": []
    }
  ]
}