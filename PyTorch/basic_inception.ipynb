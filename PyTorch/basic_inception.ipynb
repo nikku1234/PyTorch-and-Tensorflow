{
  "nbformat": 4,
  "nbformat_minor": 0,
  "metadata": {
    "colab": {
      "name": "basic inception.ipynb",
      "provenance": [],
      "collapsed_sections": [],
      "include_colab_link": true
    },
    "kernelspec": {
      "name": "python3",
      "display_name": "Python 3"
    }
  },
  "cells": [
    {
      "cell_type": "markdown",
      "metadata": {
        "id": "view-in-github",
        "colab_type": "text"
      },
      "source": [
        "<a href=\"https://colab.research.google.com/github/nikku1234/pyTorch/blob/master/basic_inception.ipynb\" target=\"_parent\"><img src=\"https://colab.research.google.com/assets/colab-badge.svg\" alt=\"Open In Colab\"/></a>"
      ]
    },
    {
      "cell_type": "code",
      "metadata": {
        "id": "9qWxnySKfLXH",
        "colab_type": "code",
        "colab": {
          "base_uri": "https://localhost:8080/",
          "height": 130
        },
        "outputId": "7af36d91-008b-4fc3-9fc9-da50740280ac"
      },
      "source": [
        "class InceptionA(nn.Module):\n",
        "  def __init__(self,in_channels):\n",
        "    super(InceptionA, self).__init__()\n",
        "    self.branch1x1 = nn.Conv2d(in_channels,16,kernel_size=1)\n",
        "\n",
        "    self.branch5x5_1 = nn.Conv2d(in_channels,16,kernel_size=1)\n",
        "    self.branch5x5_2 = nn.Conv2d(16,24,kernel_size=5,padding=2)\n",
        "\n",
        "    self.branch3x3db1_1 = nn.Conv2d(in_channels,16,kernel_size=1)\n",
        "    self.branch3x3db1_2 = nn.Conv2d()\n",
        "\n",
        "\n"
      ],
      "execution_count": 1,
      "outputs": [
        {
          "output_type": "error",
          "ename": "SyntaxError",
          "evalue": "ignored",
          "traceback": [
            "\u001b[0;36m  File \u001b[0;32m\"<ipython-input-1-f02d3bb8783f>\"\u001b[0;36m, line \u001b[0;32m3\u001b[0m\n\u001b[0;31m    super(InceptionA,self).__init__():\u001b[0m\n\u001b[0m                                      ^\u001b[0m\n\u001b[0;31mSyntaxError\u001b[0m\u001b[0;31m:\u001b[0m invalid syntax\n"
          ]
        }
      ]
    },
    {
      "cell_type": "code",
      "metadata": {
        "id": "elL75z07gKLr",
        "colab_type": "code",
        "colab": {}
      },
      "source": [
        ""
      ],
      "execution_count": 0,
      "outputs": []
    }
  ]
}