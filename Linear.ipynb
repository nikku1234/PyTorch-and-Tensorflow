{
  "nbformat": 4,
  "nbformat_minor": 0,
  "metadata": {
    "colab": {
      "name": "Linear.ipynb",
      "provenance": [],
      "include_colab_link": true
    },
    "kernelspec": {
      "name": "python3",
      "display_name": "Python 3"
    }
  },
  "cells": [
    {
      "cell_type": "markdown",
      "metadata": {
        "id": "view-in-github",
        "colab_type": "text"
      },
      "source": [
        "<a href=\"https://colab.research.google.com/github/nikku1234/Tensorflow_examples/blob/master/Linear.ipynb\" target=\"_parent\"><img src=\"https://colab.research.google.com/assets/colab-badge.svg\" alt=\"Open In Colab\"/></a>"
      ]
    },
    {
      "cell_type": "code",
      "metadata": {
        "id": "M1j2wSt_QzVI",
        "colab_type": "code",
        "colab": {}
      },
      "source": [
        "import numpy as np\n",
        "import tensorflow as tf\n",
        "import matplotlib.pyplot as plt"
      ],
      "execution_count": 0,
      "outputs": []
    },
    {
      "cell_type": "code",
      "metadata": {
        "id": "PZVr4QDKRIkJ",
        "colab_type": "code",
        "colab": {
          "base_uri": "https://localhost:8080/",
          "height": 34
        },
        "outputId": "443f117d-cde0-4f18-ba48-cd961a72946b"
      },
      "source": [
        "print(tf.__version__)"
      ],
      "execution_count": 2,
      "outputs": [
        {
          "output_type": "stream",
          "text": [
            "2.0.0\n"
          ],
          "name": "stdout"
        }
      ]
    },
    {
      "cell_type": "code",
      "metadata": {
        "id": "StpCA2K0SI4g",
        "colab_type": "code",
        "colab": {
          "base_uri": "https://localhost:8080/",
          "height": 272
        },
        "outputId": "06ac7a8f-66b5-4a88-d921-9d0b00236e36"
      },
      "source": [
        "!pip uninstall tensorflow"
      ],
      "execution_count": 7,
      "outputs": [
        {
          "output_type": "stream",
          "text": [
            "Uninstalling tensorflow-1.15.0:\n",
            "  Would remove:\n",
            "    /usr/local/bin/estimator_ckpt_converter\n",
            "    /usr/local/bin/freeze_graph\n",
            "    /usr/local/bin/saved_model_cli\n",
            "    /usr/local/bin/tensorboard\n",
            "    /usr/local/bin/tf_upgrade_v2\n",
            "    /usr/local/bin/tflite_convert\n",
            "    /usr/local/bin/toco\n",
            "    /usr/local/bin/toco_from_protos\n",
            "    /usr/local/lib/python3.6/dist-packages/tensorflow-1.15.0.dist-info/*\n",
            "    /usr/local/lib/python3.6/dist-packages/tensorflow/*\n",
            "    /usr/local/lib/python3.6/dist-packages/tensorflow_core/*\n",
            "Proceed (y/n)? y\n",
            "  Successfully uninstalled tensorflow-1.15.0\n"
          ],
          "name": "stdout"
        }
      ]
    },
    {
      "cell_type": "code",
      "metadata": {
        "id": "UYipmZR7SMZN",
        "colab_type": "code",
        "colab": {
          "base_uri": "https://localhost:8080/",
          "height": 1000
        },
        "outputId": "55288a92-7398-4883-c380-220367a552ce"
      },
      "source": [
        "!pip install tensorflow==2.0.0"
      ],
      "execution_count": 8,
      "outputs": [
        {
          "output_type": "stream",
          "text": [
            "Collecting tensorflow==2.0.0\n",
            "\u001b[?25l  Downloading https://files.pythonhosted.org/packages/46/0f/7bd55361168bb32796b360ad15a25de6966c9c1beb58a8e30c01c8279862/tensorflow-2.0.0-cp36-cp36m-manylinux2010_x86_64.whl (86.3MB)\n",
            "\u001b[K     |████████████████████████████████| 86.3MB 41kB/s \n",
            "\u001b[?25hRequirement already satisfied: gast==0.2.2 in /usr/local/lib/python3.6/dist-packages (from tensorflow==2.0.0) (0.2.2)\n",
            "Requirement already satisfied: astor>=0.6.0 in /usr/local/lib/python3.6/dist-packages (from tensorflow==2.0.0) (0.8.0)\n",
            "Requirement already satisfied: opt-einsum>=2.3.2 in /usr/local/lib/python3.6/dist-packages (from tensorflow==2.0.0) (3.1.0)\n",
            "Requirement already satisfied: six>=1.10.0 in /usr/local/lib/python3.6/dist-packages (from tensorflow==2.0.0) (1.12.0)\n",
            "Requirement already satisfied: wrapt>=1.11.1 in /usr/local/lib/python3.6/dist-packages (from tensorflow==2.0.0) (1.11.2)\n",
            "Requirement already satisfied: keras-applications>=1.0.8 in /usr/local/lib/python3.6/dist-packages (from tensorflow==2.0.0) (1.0.8)\n",
            "Requirement already satisfied: protobuf>=3.6.1 in /usr/local/lib/python3.6/dist-packages (from tensorflow==2.0.0) (3.10.0)\n",
            "Requirement already satisfied: absl-py>=0.7.0 in /usr/local/lib/python3.6/dist-packages (from tensorflow==2.0.0) (0.8.1)\n",
            "Requirement already satisfied: google-pasta>=0.1.6 in /usr/local/lib/python3.6/dist-packages (from tensorflow==2.0.0) (0.1.8)\n",
            "Requirement already satisfied: numpy<2.0,>=1.16.0 in /usr/local/lib/python3.6/dist-packages (from tensorflow==2.0.0) (1.17.4)\n",
            "Collecting tensorboard<2.1.0,>=2.0.0\n",
            "\u001b[?25l  Downloading https://files.pythonhosted.org/packages/d3/9e/a48cd34dd7b672ffc227b566f7d16d63c62c58b542d54efa45848c395dd4/tensorboard-2.0.1-py3-none-any.whl (3.8MB)\n",
            "\u001b[K     |████████████████████████████████| 3.8MB 26.7MB/s \n",
            "\u001b[?25hRequirement already satisfied: wheel>=0.26 in /usr/local/lib/python3.6/dist-packages (from tensorflow==2.0.0) (0.33.6)\n",
            "Requirement already satisfied: keras-preprocessing>=1.0.5 in /usr/local/lib/python3.6/dist-packages (from tensorflow==2.0.0) (1.1.0)\n",
            "Requirement already satisfied: termcolor>=1.1.0 in /usr/local/lib/python3.6/dist-packages (from tensorflow==2.0.0) (1.1.0)\n",
            "Requirement already satisfied: grpcio>=1.8.6 in /usr/local/lib/python3.6/dist-packages (from tensorflow==2.0.0) (1.15.0)\n",
            "Collecting tensorflow-estimator<2.1.0,>=2.0.0\n",
            "\u001b[?25l  Downloading https://files.pythonhosted.org/packages/fc/08/8b927337b7019c374719145d1dceba21a8bb909b93b1ad6f8fb7d22c1ca1/tensorflow_estimator-2.0.1-py2.py3-none-any.whl (449kB)\n",
            "\u001b[K     |████████████████████████████████| 450kB 37.7MB/s \n",
            "\u001b[?25hRequirement already satisfied: h5py in /usr/local/lib/python3.6/dist-packages (from keras-applications>=1.0.8->tensorflow==2.0.0) (2.8.0)\n",
            "Requirement already satisfied: setuptools in /usr/local/lib/python3.6/dist-packages (from protobuf>=3.6.1->tensorflow==2.0.0) (41.6.0)\n",
            "Collecting google-auth<2,>=1.6.3\n",
            "\u001b[?25l  Downloading https://files.pythonhosted.org/packages/7b/cb/786dc53d93494784935a62947643b48250b84a882474e714f9af5e1a1928/google_auth-1.7.1-py2.py3-none-any.whl (74kB)\n",
            "\u001b[K     |████████████████████████████████| 81kB 8.1MB/s \n",
            "\u001b[?25hRequirement already satisfied: google-auth-oauthlib<0.5,>=0.4.1 in /usr/local/lib/python3.6/dist-packages (from tensorboard<2.1.0,>=2.0.0->tensorflow==2.0.0) (0.4.1)\n",
            "Requirement already satisfied: werkzeug>=0.11.15 in /usr/local/lib/python3.6/dist-packages (from tensorboard<2.1.0,>=2.0.0->tensorflow==2.0.0) (0.16.0)\n",
            "Requirement already satisfied: markdown>=2.6.8 in /usr/local/lib/python3.6/dist-packages (from tensorboard<2.1.0,>=2.0.0->tensorflow==2.0.0) (3.1.1)\n",
            "Requirement already satisfied: cachetools<3.2,>=2.0.0 in /usr/local/lib/python3.6/dist-packages (from google-auth<2,>=1.6.3->tensorboard<2.1.0,>=2.0.0->tensorflow==2.0.0) (3.1.1)\n",
            "Requirement already satisfied: rsa<4.1,>=3.1.4 in /usr/local/lib/python3.6/dist-packages (from google-auth<2,>=1.6.3->tensorboard<2.1.0,>=2.0.0->tensorflow==2.0.0) (4.0)\n",
            "Requirement already satisfied: pyasn1-modules>=0.2.1 in /usr/local/lib/python3.6/dist-packages (from google-auth<2,>=1.6.3->tensorboard<2.1.0,>=2.0.0->tensorflow==2.0.0) (0.2.7)\n",
            "Requirement already satisfied: requests-oauthlib>=0.7.0 in /usr/local/lib/python3.6/dist-packages (from google-auth-oauthlib<0.5,>=0.4.1->tensorboard<2.1.0,>=2.0.0->tensorflow==2.0.0) (1.3.0)\n",
            "Requirement already satisfied: pyasn1>=0.1.3 in /usr/local/lib/python3.6/dist-packages (from rsa<4.1,>=3.1.4->google-auth<2,>=1.6.3->tensorboard<2.1.0,>=2.0.0->tensorflow==2.0.0) (0.4.7)\n",
            "Requirement already satisfied: oauthlib>=3.0.0 in /usr/local/lib/python3.6/dist-packages (from requests-oauthlib>=0.7.0->google-auth-oauthlib<0.5,>=0.4.1->tensorboard<2.1.0,>=2.0.0->tensorflow==2.0.0) (3.1.0)\n",
            "Requirement already satisfied: requests>=2.0.0 in /usr/local/lib/python3.6/dist-packages (from requests-oauthlib>=0.7.0->google-auth-oauthlib<0.5,>=0.4.1->tensorboard<2.1.0,>=2.0.0->tensorflow==2.0.0) (2.21.0)\n",
            "Requirement already satisfied: idna<2.9,>=2.5 in /usr/local/lib/python3.6/dist-packages (from requests>=2.0.0->requests-oauthlib>=0.7.0->google-auth-oauthlib<0.5,>=0.4.1->tensorboard<2.1.0,>=2.0.0->tensorflow==2.0.0) (2.8)\n",
            "Requirement already satisfied: certifi>=2017.4.17 in /usr/local/lib/python3.6/dist-packages (from requests>=2.0.0->requests-oauthlib>=0.7.0->google-auth-oauthlib<0.5,>=0.4.1->tensorboard<2.1.0,>=2.0.0->tensorflow==2.0.0) (2019.9.11)\n",
            "Requirement already satisfied: urllib3<1.25,>=1.21.1 in /usr/local/lib/python3.6/dist-packages (from requests>=2.0.0->requests-oauthlib>=0.7.0->google-auth-oauthlib<0.5,>=0.4.1->tensorboard<2.1.0,>=2.0.0->tensorflow==2.0.0) (1.24.3)\n",
            "Requirement already satisfied: chardet<3.1.0,>=3.0.2 in /usr/local/lib/python3.6/dist-packages (from requests>=2.0.0->requests-oauthlib>=0.7.0->google-auth-oauthlib<0.5,>=0.4.1->tensorboard<2.1.0,>=2.0.0->tensorflow==2.0.0) (3.0.4)\n",
            "\u001b[31mERROR: tensorboard 2.0.1 has requirement grpcio>=1.24.3, but you'll have grpcio 1.15.0 which is incompatible.\u001b[0m\n",
            "\u001b[31mERROR: google-colab 1.0.0 has requirement google-auth~=1.4.0, but you'll have google-auth 1.7.1 which is incompatible.\u001b[0m\n",
            "Installing collected packages: google-auth, tensorboard, tensorflow-estimator, tensorflow\n",
            "  Found existing installation: google-auth 1.4.2\n",
            "    Uninstalling google-auth-1.4.2:\n",
            "      Successfully uninstalled google-auth-1.4.2\n",
            "  Found existing installation: tensorboard 1.15.0\n",
            "    Uninstalling tensorboard-1.15.0:\n",
            "      Successfully uninstalled tensorboard-1.15.0\n",
            "  Found existing installation: tensorflow-estimator 1.15.1\n",
            "    Uninstalling tensorflow-estimator-1.15.1:\n",
            "      Successfully uninstalled tensorflow-estimator-1.15.1\n",
            "Successfully installed google-auth-1.7.1 tensorboard-2.0.1 tensorflow-2.0.0 tensorflow-estimator-2.0.1\n"
          ],
          "name": "stdout"
        },
        {
          "output_type": "display_data",
          "data": {
            "application/vnd.colab-display-data+json": {
              "pip_warning": {
                "packages": [
                  "google",
                  "tensorboard",
                  "tensorflow",
                  "tensorflow_core",
                  "tensorflow_estimator"
                ]
              }
            }
          },
          "metadata": {
            "tags": []
          }
        }
      ]
    },
    {
      "cell_type": "code",
      "metadata": {
        "id": "KDHbpcGpWMA0",
        "colab_type": "code",
        "colab": {}
      },
      "source": [
        "#actual weight and bias 2 and 0.9\n",
        "\n",
        "x = np.linspace(0,3,120)\n",
        "\n",
        "y = 2 * x + 0.9 +np.random.randn(*x.shape)*0.3"
      ],
      "execution_count": 0,
      "outputs": []
    },
    {
      "cell_type": "code",
      "metadata": {
        "id": "QZo8GuMeWw0-",
        "colab_type": "code",
        "colab": {
          "base_uri": "https://localhost:8080/",
          "height": 282
        },
        "outputId": "3df980e1-3bdc-457d-a698-0225ff2810ea"
      },
      "source": [
        "plt.scatter(x,y,label=\"input data set\")"
      ],
      "execution_count": 5,
      "outputs": [
        {
          "output_type": "execute_result",
          "data": {
            "text/plain": [
              "<matplotlib.collections.PathCollection at 0x7f9f6025c978>"
            ]
          },
          "metadata": {
            "tags": []
          },
          "execution_count": 5
        },
        {
          "output_type": "display_data",
          "data": {
            "image/png": "[encoded data removed]",
            "text/plain": [
              "<Figure size 432x288 with 1 Axes>"
            ]
          },
          "metadata": {
            "tags": []
          }
        }
      ]
    },
    {
      "cell_type": "markdown",
      "metadata": {
        "id": "mIwjab_GbVFO",
        "colab_type": "text"
      },
      "source": [
        "two methods: init and call. Init initializes the weight and bias randomly, and call returns the values, as per the straight line equation y = mx + c"
      ]
    },
    {
      "cell_type": "code",
      "metadata": {
        "id": "aI9p7htXW5CV",
        "colab_type": "code",
        "colab": {}
      },
      "source": [
        "class LinearModel:\n",
        "    def __call__(self, x):\n",
        "        return self.Weight * x + self.Bias\n",
        "    \n",
        "    def __init__(self):\n",
        "        self.Weight = tf.Variable(11.0)\n",
        "        self.Bias = tf.Variable(12.0)"
      ],
      "execution_count": 0,
      "outputs": []
    },
    {
      "cell_type": "markdown",
      "metadata": {
        "id": "SQindaS8bdb-",
        "colab_type": "text"
      },
      "source": [
        "Loss and train functions for the model. \n",
        "\n",
        "The train function takes four parameters: linear_model (model instance) , x (independent variable) , y (dependent variable), and lr (learning rate).\n",
        "\n",
        "\n",
        "The loss function takes two parameters: y (actual value of dependent variable) and pred (predicted value of dependent variable).\n",
        "\n",
        "\n",
        "Note that we’re using the tf.square function to get the square of the difference of y and the predicted value, and then we’re using the . tf.reduce_mean method to calculate the square root of the mean.\n",
        "\n",
        "\n",
        "Note that the tf.GradientTape method is used for automatic differentiation, computing the gradient of a computation with respect to its input variables.\n",
        "\n",
        "\n",
        "Hence, all operations executed inside the context of a tf.GradientTape are recorded.\n"
      ]
    },
    {
      "cell_type": "code",
      "metadata": {
        "id": "z2gRQc0_XREz",
        "colab_type": "code",
        "colab": {}
      },
      "source": [
        "def loss(y,pred):\n",
        "  return tf.reduce_mean(tf.square(y-pred))\n",
        "\n",
        "def train(linear_model,x,y,lr =0.2):\n",
        "  with tf.GradientTape() as t:\n",
        "    current_loss = loss(y,linear_model(x))\n",
        "\n",
        "    lr_weight, lr_bias = t.gradient(current_loss,[linear_model.Weight,linear_model.Bias])\n",
        "    linear_model.Weight.assign_sub(lr * lr_weight)\n",
        "    linear_model.Bias.assign_sub(lr * lr_bias)\n",
        "    "
      ],
      "execution_count": 0,
      "outputs": []
    },
    {
      "cell_type": "markdown",
      "metadata": {
        "id": "kiDlJZZCby7j",
        "colab_type": "text"
      },
      "source": [
        "defining the number of epochs as 80 and using a for loop to train the model. Note that we’re printing the epoch count and loss for each epoch using that same for loop. We’ve used 0.12 for learning rate, and we’re calculating the loss in each epoch by calling our loss function inside the for loop as shown below."
      ]
    },
    {
      "cell_type": "code",
      "metadata": {
        "id": "6NoiE0FmZGI5",
        "colab_type": "code",
        "colab": {
          "base_uri": "https://localhost:8080/",
          "height": 1000
        },
        "outputId": "45ce1d95-4258-4312-ab57-38d2e1594493"
      },
      "source": [
        "\n",
        "linear_model = LinearModel()\n",
        "Weights, Biases = [], []\n",
        "epochs = 80\n",
        "for epoch_count in range(epochs):\n",
        "    Weights.append(linear_model.Weight.numpy()) \n",
        "    Biases.append(linear_model.Bias.numpy())\n",
        "    real_loss = loss(y, linear_model(x))\n",
        "    train(linear_model, x, y, lr=0.12)\n",
        "    print(f\"Epoch count {epoch_count}: Loss value: {real_loss.numpy()}\")"
      ],
      "execution_count": 21,
      "outputs": [
        {
          "output_type": "stream",
          "text": [
            "Epoch count 0: Loss value: 667.8931274414062\n",
            "Epoch count 1: Loss value: 10.504701614379883\n",
            "Epoch count 2: Loss value: 5.232640743255615\n",
            "Epoch count 3: Loss value: 4.719099521636963\n",
            "Epoch count 4: Loss value: 4.2844767570495605\n",
            "Epoch count 5: Loss value: 3.890803813934326\n",
            "Epoch count 6: Loss value: 3.534022092819214\n",
            "Epoch count 7: Loss value: 3.2106740474700928\n",
            "Epoch count 8: Loss value: 2.9176254272460938\n",
            "Epoch count 9: Loss value: 2.6520376205444336\n",
            "Epoch count 10: Loss value: 2.411336660385132\n",
            "Epoch count 11: Loss value: 2.1931912899017334\n",
            "Epoch count 12: Loss value: 1.9954876899719238\n",
            "Epoch count 13: Loss value: 1.8163098096847534\n",
            "Epoch count 14: Loss value: 1.6539223194122314\n",
            "Epoch count 15: Loss value: 1.506751537322998\n",
            "Epoch count 16: Loss value: 1.3733716011047363\n",
            "Epoch count 17: Loss value: 1.2524902820587158\n",
            "Epoch count 18: Loss value: 1.1429364681243896\n",
            "Epoch count 19: Loss value: 1.0436482429504395\n",
            "Epoch count 20: Loss value: 0.953664243221283\n",
            "Epoch count 21: Loss value: 0.8721123933792114\n",
            "Epoch count 22: Loss value: 0.7982023358345032\n",
            "Epoch count 23: Loss value: 0.7312182188034058\n",
            "Epoch count 24: Loss value: 0.67051100730896\n",
            "Epoch count 25: Loss value: 0.6154924035072327\n",
            "Epoch count 26: Loss value: 0.5656294226646423\n",
            "Epoch count 27: Loss value: 0.5204388499259949\n",
            "Epoch count 28: Loss value: 0.479483038187027\n",
            "Epoch count 29: Loss value: 0.44236502051353455\n",
            "Epoch count 30: Loss value: 0.4087252914905548\n",
            "Epoch count 31: Loss value: 0.3782377243041992\n",
            "Epoch count 32: Loss value: 0.35060709714889526\n",
            "Epoch count 33: Loss value: 0.3255656659603119\n",
            "Epoch count 34: Loss value: 0.3028707504272461\n",
            "Epoch count 35: Loss value: 0.2823024392127991\n",
            "Epoch count 36: Loss value: 0.26366159319877625\n",
            "Epoch count 37: Loss value: 0.2467675358057022\n",
            "Epoch count 38: Loss value: 0.2314564734697342\n",
            "Epoch count 39: Loss value: 0.217580184340477\n",
            "Epoch count 40: Loss value: 0.20500421524047852\n",
            "Epoch count 41: Loss value: 0.1936066895723343\n",
            "Epoch count 42: Loss value: 0.1832771897315979\n",
            "Epoch count 43: Loss value: 0.17391563951969147\n",
            "Epoch count 44: Loss value: 0.16543132066726685\n",
            "Epoch count 45: Loss value: 0.15774205327033997\n",
            "Epoch count 46: Loss value: 0.1507733017206192\n",
            "Epoch count 47: Loss value: 0.14445760846138\n",
            "Epoch count 48: Loss value: 0.13873369991779327\n",
            "Epoch count 49: Loss value: 0.13354618847370148\n",
            "Epoch count 50: Loss value: 0.12884478271007538\n",
            "Epoch count 51: Loss value: 0.12458392977714539\n",
            "Epoch count 52: Loss value: 0.12072230875492096\n",
            "Epoch count 53: Loss value: 0.11722259223461151\n",
            "Epoch count 54: Loss value: 0.11405079811811447\n",
            "Epoch count 55: Loss value: 0.11117620766162872\n",
            "Epoch count 56: Loss value: 0.10857100784778595\n",
            "Epoch count 57: Loss value: 0.10620991885662079\n",
            "Epoch count 58: Loss value: 0.10407008975744247\n",
            "Epoch count 59: Loss value: 0.10213076323270798\n",
            "Epoch count 60: Loss value: 0.10037316381931305\n",
            "Epoch count 61: Loss value: 0.09878026694059372\n",
            "Epoch count 62: Loss value: 0.09733665734529495\n",
            "Epoch count 63: Loss value: 0.09602829813957214\n",
            "Epoch count 64: Loss value: 0.09484253823757172\n",
            "Epoch count 65: Loss value: 0.093767911195755\n",
            "Epoch count 66: Loss value: 0.09279397875070572\n",
            "Epoch count 67: Loss value: 0.09191131591796875\n",
            "Epoch count 68: Loss value: 0.09111134707927704\n",
            "Epoch count 69: Loss value: 0.09038635343313217\n",
            "Epoch count 70: Loss value: 0.08972930163145065\n",
            "Epoch count 71: Loss value: 0.08913382142782211\n",
            "Epoch count 72: Loss value: 0.08859412372112274\n",
            "Epoch count 73: Loss value: 0.08810500800609589\n",
            "Epoch count 74: Loss value: 0.0876617282629013\n",
            "Epoch count 75: Loss value: 0.08725998550653458\n",
            "Epoch count 76: Loss value: 0.08689587563276291\n",
            "Epoch count 77: Loss value: 0.08656590431928635\n",
            "Epoch count 78: Loss value: 0.08626683801412582\n",
            "Epoch count 79: Loss value: 0.08599580079317093\n"
          ],
          "name": "stdout"
        }
      ]
    },
    {
      "cell_type": "code",
      "metadata": {
        "id": "OlJJR8ndZ4zO",
        "colab_type": "code",
        "colab": {
          "base_uri": "https://localhost:8080/",
          "height": 34
        },
        "outputId": "91c5b997-0a97-4363-aa6d-8c00b06ab106"
      },
      "source": [
        "linear_model.Weight.numpy(),linear_model.Bias.numpy()"
      ],
      "execution_count": 24,
      "outputs": [
        {
          "output_type": "execute_result",
          "data": {
            "text/plain": [
              "(1.9511032, 0.97406024)"
            ]
          },
          "metadata": {
            "tags": []
          },
          "execution_count": 24
        }
      ]
    },
    {
      "cell_type": "code",
      "metadata": {
        "id": "49FytyvpapdC",
        "colab_type": "code",
        "colab": {}
      },
      "source": [
        "RMSE = loss(y,linear_model(x))"
      ],
      "execution_count": 0,
      "outputs": []
    },
    {
      "cell_type": "code",
      "metadata": {
        "id": "gdcVqn9ja1FW",
        "colab_type": "code",
        "colab": {
          "base_uri": "https://localhost:8080/",
          "height": 34
        },
        "outputId": "a4be532c-96c6-4f44-ab37-f6360879cb35"
      },
      "source": [
        "RMSE.numpy()"
      ],
      "execution_count": 28,
      "outputs": [
        {
          "output_type": "execute_result",
          "data": {
            "text/plain": [
              "0.08575018"
            ]
          },
          "metadata": {
            "tags": []
          },
          "execution_count": 28
        }
      ]
    },
    {
      "cell_type": "code",
      "metadata": {
        "id": "5gGV24Fqa3NW",
        "colab_type": "code",
        "colab": {}
      },
      "source": [
        " Reference - https://heartbeat.fritz.ai/linear-regression-using-tensorflow-2-0-1cd51e211e1f"
      ],
      "execution_count": 0,
      "outputs": []
    }
  ]
}