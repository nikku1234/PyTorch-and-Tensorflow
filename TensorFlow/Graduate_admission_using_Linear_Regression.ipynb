{
  "nbformat": 4,
  "nbformat_minor": 0,
  "metadata": {
    "colab": {
      "name": "Graduate admission using Linear Regression.ipynb",
      "provenance": [],
      "collapsed_sections": [],
      "include_colab_link": true
    },
    "kernelspec": {
      "name": "python3",
      "display_name": "Python 3"
    },
    "accelerator": "GPU"
  },
  "cells": [
    {
      "cell_type": "markdown",
      "metadata": {
        "id": "view-in-github",
        "colab_type": "text"
      },
      "source": [
        "<a href=\"https://colab.research.google.com/github/nikku1234/Tensorflow_examples/blob/master/Graduate_admission_using_Linear_Regression.ipynb\" target=\"_parent\"><img src=\"https://colab.research.google.com/assets/colab-badge.svg\" alt=\"Open In Colab\"/></a>"
      ]
    },
    {
      "cell_type": "code",
      "metadata": {
        "id": "EVs74FlQDYDP",
        "colab_type": "code",
        "outputId": "43174092-c304-4623-e3c0-7f43bbfe8549",
        "colab": {
          "resources": {
            "http://localhost:8080/nbextensions/google.colab/files.js": {
              "data": "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",
              "ok": true,
              "headers": [
                [
                  "content-type",
                  "application/javascript"
                ]
              ],
              "status": 200,
              "status_text": ""
            }
          },
          "base_uri": "https://localhost:8080/",
          "height": 112
        }
      },
      "source": [
        "from google.colab import files\n",
        "files.upload()"
      ],
      "execution_count": 6,
      "outputs": [
        {
          "output_type": "display_data",
          "data": {
            "text/html": [
              "\n",
              "     <input type=\"file\" id=\"files-3e5996f7-8990-4e51-8265-2419799d04bd\" name=\"files[]\" multiple disabled />\n",
              "     <output id=\"result-3e5996f7-8990-4e51-8265-2419799d04bd\">\n",
              "      Upload widget is only available when the cell has been executed in the\n",
              "      current browser session. Please rerun this cell to enable.\n",
              "      </output>\n",
              "      <script src=\"/nbextensions/google.colab/files.js\"></script> "
            ],
            "text/plain": [
              "<IPython.core.display.HTML object>"
            ]
          },
          "metadata": {
            "tags": []
          }
        },
        {
          "output_type": "stream",
          "text": [
            "Saving Admission_Predict_Ver1.1.csv to Admission_Predict_Ver1.1.csv\n"
          ],
          "name": "stdout"
        },
        {
          "output_type": "execute_result",
          "data": {
            "text/plain": [
              "{'Admission_Predict_Ver1.1.csv': b'Serial No.,GRE Score,TOEFL Score,University Rating,SOP,LOR ,CGPA,Research,Chance of Admit \\r\\n1,337,118,4,4.5,4.5,9.65,1,0.92\\r\\n2,324,107,4,4,4.5,8.87,1,0.76\\r\\n3,316,104,3,3,3.5,8,1,0.72\\r\\n4,322,110,3,3.5,2.5,8.67,1,0.8\\r\\n5,314,103,2,2,3,8.21,0,0.65\\r\\n6,330,115,5,4.5,3,9.34,1,0.9\\r\\n7,321,109,3,3,4,8.2,1,0.75\\r\\n8,308,101,2,3,4,7.9,0,0.68\\r\\n9,302,102,1,2,1.5,8,0,0.5\\r\\n10,323,108,3,3.5,3,8.6,0,0.45\\r\\n11,325,106,3,3.5,4,8.4,1,0.52\\r\\n12,327,111,4,4,4.5,9,1,0.84\\r\\n13,328,112,4,4,4.5,9.1,1,0.78\\r\\n14,307,109,3,4,3,8,1,0.62\\r\\n15,311,104,3,3.5,2,8.2,1,0.61\\r\\n16,314,105,3,3.5,2.5,8.3,0,0.54\\r\\n17,317,107,3,4,3,8.7,0,0.66\\r\\n18,319,106,3,4,3,8,1,0.65\\r\\n19,318,110,3,4,3,8.8,0,0.63\\r\\n20,303,102,3,3.5,3,8.5,0,0.62\\r\\n21,312,107,3,3,2,7.9,1,0.64\\r\\n22,325,114,4,3,2,8.4,0,0.7\\r\\n23,328,116,5,5,5,9.5,1,0.94\\r\\n24,334,119,5,5,4.5,9.7,1,0.95\\r\\n25,336,119,5,4,3.5,9.8,1,0.97\\r\\n26,340,120,5,4.5,4.5,9.6,1,0.94\\r\\n27,322,109,5,4.5,3.5,8.8,0,0.76\\r\\n28,298,98,2,1.5,2.5,7.5,1,0.44\\r\\n29,295,93,1,2,2,7.2,0,0.46\\r\\n30,310,99,2,1.5,2,7.3,0,0.54\\r\\n31,300,97,2,3,3,8.1,1,0.65\\r\\n32,327,103,3,4,4,8.3,1,0.74\\r\\n33,338,118,4,3,4.5,9.4,1,0.91\\r\\n34,340,114,5,4,4,9.6,1,0.9\\r\\n35,331,112,5,4,5,9.8,1,0.94\\r\\n36,320,110,5,5,5,9.2,1,0.88\\r\\n37,299,106,2,4,4,8.4,0,0.64\\r\\n38,300,105,1,1,2,7.8,0,0.58\\r\\n39,304,105,1,3,1.5,7.5,0,0.52\\r\\n40,307,108,2,4,3.5,7.7,0,0.48\\r\\n41,308,110,3,3.5,3,8,1,0.46\\r\\n42,316,105,2,2.5,2.5,8.2,1,0.49\\r\\n43,313,107,2,2.5,2,8.5,1,0.53\\r\\n44,332,117,4,4.5,4,9.1,0,0.87\\r\\n45,326,113,5,4.5,4,9.4,1,0.91\\r\\n46,322,110,5,5,4,9.1,1,0.88\\r\\n47,329,114,5,4,5,9.3,1,0.86\\r\\n48,339,119,5,4.5,4,9.7,0,0.89\\r\\n49,321,110,3,3.5,5,8.85,1,0.82\\r\\n50,327,111,4,3,4,8.4,1,0.78\\r\\n51,313,98,3,2.5,4.5,8.3,1,0.76\\r\\n52,312,100,2,1.5,3.5,7.9,1,0.56\\r\\n53,334,116,4,4,3,8,1,0.78\\r\\n54,324,112,4,4,2.5,8.1,1,0.72\\r\\n55,322,110,3,3,3.5,8,0,0.7\\r\\n56,320,103,3,3,3,7.7,0,0.64\\r\\n57,316,102,3,2,3,7.4,0,0.64\\r\\n58,298,99,2,4,2,7.6,0,0.46\\r\\n59,300,99,1,3,2,6.8,1,0.36\\r\\n60,311,104,2,2,2,8.3,0,0.42\\r\\n61,309,100,2,3,3,8.1,0,0.48\\r\\n62,307,101,3,4,3,8.2,0,0.47\\r\\n63,304,105,2,3,3,8.2,1,0.54\\r\\n64,315,107,2,4,3,8.5,1,0.56\\r\\n65,325,111,3,3,3.5,8.7,0,0.52\\r\\n66,325,112,4,3.5,3.5,8.92,0,0.55\\r\\n67,327,114,3,3,3,9.02,0,0.61\\r\\n68,316,107,2,3.5,3.5,8.64,1,0.57\\r\\n69,318,109,3,3.5,4,9.22,1,0.68\\r\\n70,328,115,4,4.5,4,9.16,1,0.78\\r\\n71,332,118,5,5,5,9.64,1,0.94\\r\\n72,336,112,5,5,5,9.76,1,0.96\\r\\n73,321,111,5,5,5,9.45,1,0.93\\r\\n74,314,108,4,4.5,4,9.04,1,0.84\\r\\n75,314,106,3,3,5,8.9,0,0.74\\r\\n76,329,114,2,2,4,8.56,1,0.72\\r\\n77,327,112,3,3,3,8.72,1,0.74\\r\\n78,301,99,2,3,2,8.22,0,0.64\\r\\n79,296,95,2,3,2,7.54,1,0.44\\r\\n80,294,93,1,1.5,2,7.36,0,0.46\\r\\n81,312,105,3,2,3,8.02,1,0.5\\r\\n82,340,120,4,5,5,9.5,1,0.96\\r\\n83,320,110,5,5,4.5,9.22,1,0.92\\r\\n84,322,115,5,4,4.5,9.36,1,0.92\\r\\n85,340,115,5,4.5,4.5,9.45,1,0.94\\r\\n86,319,103,4,4.5,3.5,8.66,0,0.76\\r\\n87,315,106,3,4.5,3.5,8.42,0,0.72\\r\\n88,317,107,2,3.5,3,8.28,0,0.66\\r\\n89,314,108,3,4.5,3.5,8.14,0,0.64\\r\\n90,316,109,4,4.5,3.5,8.76,1,0.74\\r\\n91,318,106,2,4,4,7.92,1,0.64\\r\\n92,299,97,3,5,3.5,7.66,0,0.38\\r\\n93,298,98,2,4,3,8.03,0,0.34\\r\\n94,301,97,2,3,3,7.88,1,0.44\\r\\n95,303,99,3,2,2.5,7.66,0,0.36\\r\\n96,304,100,4,1.5,2.5,7.84,0,0.42\\r\\n97,306,100,2,3,3,8,0,0.48\\r\\n98,331,120,3,4,4,8.96,1,0.86\\r\\n99,332,119,4,5,4.5,9.24,1,0.9\\r\\n100,323,113,3,4,4,8.88,1,0.79\\r\\n101,322,107,3,3.5,3.5,8.46,1,0.71\\r\\n102,312,105,2,2.5,3,8.12,0,0.64\\r\\n103,314,106,2,4,3.5,8.25,0,0.62\\r\\n104,317,104,2,4.5,4,8.47,0,0.57\\r\\n105,326,112,3,3.5,3,9.05,1,0.74\\r\\n106,316,110,3,4,4.5,8.78,1,0.69\\r\\n107,329,111,4,4.5,4.5,9.18,1,0.87\\r\\n108,338,117,4,3.5,4.5,9.46,1,0.91\\r\\n109,331,116,5,5,5,9.38,1,0.93\\r\\n110,304,103,5,5,4,8.64,0,0.68\\r\\n111,305,108,5,3,3,8.48,0,0.61\\r\\n112,321,109,4,4,4,8.68,1,0.69\\r\\n113,301,107,3,3.5,3.5,8.34,1,0.62\\r\\n114,320,110,2,4,3.5,8.56,0,0.72\\r\\n115,311,105,3,3.5,3,8.45,1,0.59\\r\\n116,310,106,4,4.5,4.5,9.04,1,0.66\\r\\n117,299,102,3,4,3.5,8.62,0,0.56\\r\\n118,290,104,4,2,2.5,7.46,0,0.45\\r\\n119,296,99,2,3,3.5,7.28,0,0.47\\r\\n120,327,104,5,3,3.5,8.84,1,0.71\\r\\n121,335,117,5,5,5,9.56,1,0.94\\r\\n122,334,119,5,4.5,4.5,9.48,1,0.94\\r\\n123,310,106,4,1.5,2.5,8.36,0,0.57\\r\\n124,308,108,3,3.5,3.5,8.22,0,0.61\\r\\n125,301,106,4,2.5,3,8.47,0,0.57\\r\\n126,300,100,3,2,3,8.66,1,0.64\\r\\n127,323,113,3,4,3,9.32,1,0.85\\r\\n128,319,112,3,2.5,2,8.71,1,0.78\\r\\n129,326,112,3,3.5,3,9.1,1,0.84\\r\\n130,333,118,5,5,5,9.35,1,0.92\\r\\n131,339,114,5,4,4.5,9.76,1,0.96\\r\\n132,303,105,5,5,4.5,8.65,0,0.77\\r\\n133,309,105,5,3.5,3.5,8.56,0,0.71\\r\\n134,323,112,5,4,4.5,8.78,0,0.79\\r\\n135,333,113,5,4,4,9.28,1,0.89\\r\\n136,314,109,4,3.5,4,8.77,1,0.82\\r\\n137,312,103,3,5,4,8.45,0,0.76\\r\\n138,316,100,2,1.5,3,8.16,1,0.71\\r\\n139,326,116,2,4.5,3,9.08,1,0.8\\r\\n140,318,109,1,3.5,3.5,9.12,0,0.78\\r\\n141,329,110,2,4,3,9.15,1,0.84\\r\\n142,332,118,2,4.5,3.5,9.36,1,0.9\\r\\n143,331,115,5,4,3.5,9.44,1,0.92\\r\\n144,340,120,4,4.5,4,9.92,1,0.97\\r\\n145,325,112,2,3,3.5,8.96,1,0.8\\r\\n146,320,113,2,2,2.5,8.64,1,0.81\\r\\n147,315,105,3,2,2.5,8.48,0,0.75\\r\\n148,326,114,3,3,3,9.11,1,0.83\\r\\n149,339,116,4,4,3.5,9.8,1,0.96\\r\\n150,311,106,2,3.5,3,8.26,1,0.79\\r\\n151,334,114,4,4,4,9.43,1,0.93\\r\\n152,332,116,5,5,5,9.28,1,0.94\\r\\n153,321,112,5,5,5,9.06,1,0.86\\r\\n154,324,105,3,3,4,8.75,0,0.79\\r\\n155,326,108,3,3,3.5,8.89,0,0.8\\r\\n156,312,109,3,3,3,8.69,0,0.77\\r\\n157,315,105,3,2,2.5,8.34,0,0.7\\r\\n158,309,104,2,2,2.5,8.26,0,0.65\\r\\n159,306,106,2,2,2.5,8.14,0,0.61\\r\\n160,297,100,1,1.5,2,7.9,0,0.52\\r\\n161,315,103,1,1.5,2,7.86,0,0.57\\r\\n162,298,99,1,1.5,3,7.46,0,0.53\\r\\n163,318,109,3,3,3,8.5,0,0.67\\r\\n164,317,105,3,3.5,3,8.56,0,0.68\\r\\n165,329,111,4,4.5,4,9.01,1,0.81\\r\\n166,322,110,5,4.5,4,8.97,0,0.78\\r\\n167,302,102,3,3.5,5,8.33,0,0.65\\r\\n168,313,102,3,2,3,8.27,0,0.64\\r\\n169,293,97,2,2,4,7.8,1,0.64\\r\\n170,311,99,2,2.5,3,7.98,0,0.65\\r\\n171,312,101,2,2.5,3.5,8.04,1,0.68\\r\\n172,334,117,5,4,4.5,9.07,1,0.89\\r\\n173,322,110,4,4,5,9.13,1,0.86\\r\\n174,323,113,4,4,4.5,9.23,1,0.89\\r\\n175,321,111,4,4,4,8.97,1,0.87\\r\\n176,320,111,4,4.5,3.5,8.87,1,0.85\\r\\n177,329,119,4,4.5,4.5,9.16,1,0.9\\r\\n178,319,110,3,3.5,3.5,9.04,0,0.82\\r\\n179,309,108,3,2.5,3,8.12,0,0.72\\r\\n180,307,102,3,3,3,8.27,0,0.73\\r\\n181,300,104,3,3.5,3,8.16,0,0.71\\r\\n182,305,107,2,2.5,2.5,8.42,0,0.71\\r\\n183,299,100,2,3,3.5,7.88,0,0.68\\r\\n184,314,110,3,4,4,8.8,0,0.75\\r\\n185,316,106,2,2.5,4,8.32,0,0.72\\r\\n186,327,113,4,4.5,4.5,9.11,1,0.89\\r\\n187,317,107,3,3.5,3,8.68,1,0.84\\r\\n188,335,118,5,4.5,3.5,9.44,1,0.93\\r\\n189,331,115,5,4.5,3.5,9.36,1,0.93\\r\\n190,324,112,5,5,5,9.08,1,0.88\\r\\n191,324,111,5,4.5,4,9.16,1,0.9\\r\\n192,323,110,5,4,5,8.98,1,0.87\\r\\n193,322,114,5,4.5,4,8.94,1,0.86\\r\\n194,336,118,5,4.5,5,9.53,1,0.94\\r\\n195,316,109,3,3.5,3,8.76,0,0.77\\r\\n196,307,107,2,3,3.5,8.52,1,0.78\\r\\n197,306,105,2,3,2.5,8.26,0,0.73\\r\\n198,310,106,2,3.5,2.5,8.33,0,0.73\\r\\n199,311,104,3,4.5,4.5,8.43,0,0.7\\r\\n200,313,107,3,4,4.5,8.69,0,0.72\\r\\n201,317,103,3,2.5,3,8.54,1,0.73\\r\\n202,315,110,2,3.5,3,8.46,1,0.72\\r\\n203,340,120,5,4.5,4.5,9.91,1,0.97\\r\\n204,334,120,5,4,5,9.87,1,0.97\\r\\n205,298,105,3,3.5,4,8.54,0,0.69\\r\\n206,295,99,2,2.5,3,7.65,0,0.57\\r\\n207,315,99,2,3.5,3,7.89,0,0.63\\r\\n208,310,102,3,3.5,4,8.02,1,0.66\\r\\n209,305,106,2,3,3,8.16,0,0.64\\r\\n210,301,104,3,3.5,4,8.12,1,0.68\\r\\n211,325,108,4,4.5,4,9.06,1,0.79\\r\\n212,328,110,4,5,4,9.14,1,0.82\\r\\n213,338,120,4,5,5,9.66,1,0.95\\r\\n214,333,119,5,5,4.5,9.78,1,0.96\\r\\n215,331,117,4,4.5,5,9.42,1,0.94\\r\\n216,330,116,5,5,4.5,9.36,1,0.93\\r\\n217,322,112,4,4.5,4.5,9.26,1,0.91\\r\\n218,321,109,4,4,4,9.13,1,0.85\\r\\n219,324,110,4,3,3.5,8.97,1,0.84\\r\\n220,312,104,3,3.5,3.5,8.42,0,0.74\\r\\n221,313,103,3,4,4,8.75,0,0.76\\r\\n222,316,110,3,3.5,4,8.56,0,0.75\\r\\n223,324,113,4,4.5,4,8.79,0,0.76\\r\\n224,308,109,2,3,4,8.45,0,0.71\\r\\n225,305,105,2,3,2,8.23,0,0.67\\r\\n226,296,99,2,2.5,2.5,8.03,0,0.61\\r\\n227,306,110,2,3.5,4,8.45,0,0.63\\r\\n228,312,110,2,3.5,3,8.53,0,0.64\\r\\n229,318,112,3,4,3.5,8.67,0,0.71\\r\\n230,324,111,4,3,3,9.01,1,0.82\\r\\n231,313,104,3,4,4.5,8.65,0,0.73\\r\\n232,319,106,3,3.5,2.5,8.33,1,0.74\\r\\n233,312,107,2,2.5,3.5,8.27,0,0.69\\r\\n234,304,100,2,2.5,3.5,8.07,0,0.64\\r\\n235,330,113,5,5,4,9.31,1,0.91\\r\\n236,326,111,5,4.5,4,9.23,1,0.88\\r\\n237,325,112,4,4,4.5,9.17,1,0.85\\r\\n238,329,114,5,4.5,5,9.19,1,0.86\\r\\n239,310,104,3,2,3.5,8.37,0,0.7\\r\\n240,299,100,1,1.5,2,7.89,0,0.59\\r\\n241,296,101,1,2.5,3,7.68,0,0.6\\r\\n242,317,103,2,2.5,2,8.15,0,0.65\\r\\n243,324,115,3,3.5,3,8.76,1,0.7\\r\\n244,325,114,3,3.5,3,9.04,1,0.76\\r\\n245,314,107,2,2.5,4,8.56,0,0.63\\r\\n246,328,110,4,4,2.5,9.02,1,0.81\\r\\n247,316,105,3,3,3.5,8.73,0,0.72\\r\\n248,311,104,2,2.5,3.5,8.48,0,0.71\\r\\n249,324,110,3,3.5,4,8.87,1,0.8\\r\\n250,321,111,3,3.5,4,8.83,1,0.77\\r\\n251,320,104,3,3,2.5,8.57,1,0.74\\r\\n252,316,99,2,2.5,3,9,0,0.7\\r\\n253,318,100,2,2.5,3.5,8.54,1,0.71\\r\\n254,335,115,4,4.5,4.5,9.68,1,0.93\\r\\n255,321,114,4,4,5,9.12,0,0.85\\r\\n256,307,110,4,4,4.5,8.37,0,0.79\\r\\n257,309,99,3,4,4,8.56,0,0.76\\r\\n258,324,100,3,4,5,8.64,1,0.78\\r\\n259,326,102,4,5,5,8.76,1,0.77\\r\\n260,331,119,4,5,4.5,9.34,1,0.9\\r\\n261,327,108,5,5,3.5,9.13,1,0.87\\r\\n262,312,104,3,3.5,4,8.09,0,0.71\\r\\n263,308,103,2,2.5,4,8.36,1,0.7\\r\\n264,324,111,3,2.5,1.5,8.79,1,0.7\\r\\n265,325,110,2,3,2.5,8.76,1,0.75\\r\\n266,313,102,3,2.5,2.5,8.68,0,0.71\\r\\n267,312,105,2,2,2.5,8.45,0,0.72\\r\\n268,314,107,3,3,3.5,8.17,1,0.73\\r\\n269,327,113,4,4.5,5,9.14,0,0.83\\r\\n270,308,108,4,4.5,5,8.34,0,0.77\\r\\n271,306,105,2,2.5,3,8.22,1,0.72\\r\\n272,299,96,2,1.5,2,7.86,0,0.54\\r\\n273,294,95,1,1.5,1.5,7.64,0,0.49\\r\\n274,312,99,1,1,1.5,8.01,1,0.52\\r\\n275,315,100,1,2,2.5,7.95,0,0.58\\r\\n276,322,110,3,3.5,3,8.96,1,0.78\\r\\n277,329,113,5,5,4.5,9.45,1,0.89\\r\\n278,320,101,2,2.5,3,8.62,0,0.7\\r\\n279,308,103,2,3,3.5,8.49,0,0.66\\r\\n280,304,102,2,3,4,8.73,0,0.67\\r\\n281,311,102,3,4.5,4,8.64,1,0.68\\r\\n282,317,110,3,4,4.5,9.11,1,0.8\\r\\n283,312,106,3,4,3.5,8.79,1,0.81\\r\\n284,321,111,3,2.5,3,8.9,1,0.8\\r\\n285,340,112,4,5,4.5,9.66,1,0.94\\r\\n286,331,116,5,4,4,9.26,1,0.93\\r\\n287,336,118,5,4.5,4,9.19,1,0.92\\r\\n288,324,114,5,5,4.5,9.08,1,0.89\\r\\n289,314,104,4,5,5,9.02,0,0.82\\r\\n290,313,109,3,4,3.5,9,0,0.79\\r\\n291,307,105,2,2.5,3,7.65,0,0.58\\r\\n292,300,102,2,1.5,2,7.87,0,0.56\\r\\n293,302,99,2,1,2,7.97,0,0.56\\r\\n294,312,98,1,3.5,3,8.18,1,0.64\\r\\n295,316,101,2,2.5,2,8.32,1,0.61\\r\\n296,317,100,2,3,2.5,8.57,0,0.68\\r\\n297,310,107,3,3.5,3.5,8.67,0,0.76\\r\\n298,320,120,3,4,4.5,9.11,0,0.86\\r\\n299,330,114,3,4.5,4.5,9.24,1,0.9\\r\\n300,305,112,3,3,3.5,8.65,0,0.71\\r\\n301,309,106,2,2.5,2.5,8,0,0.62\\r\\n302,319,108,2,2.5,3,8.76,0,0.66\\r\\n303,322,105,2,3,3,8.45,1,0.65\\r\\n304,323,107,3,3.5,3.5,8.55,1,0.73\\r\\n305,313,106,2,2.5,2,8.43,0,0.62\\r\\n306,321,109,3,3.5,3.5,8.8,1,0.74\\r\\n307,323,110,3,4,3.5,9.1,1,0.79\\r\\n308,325,112,4,4,4,9,1,0.8\\r\\n309,312,108,3,3.5,3,8.53,0,0.69\\r\\n310,308,110,4,3.5,3,8.6,0,0.7\\r\\n311,320,104,3,3,3.5,8.74,1,0.76\\r\\n312,328,108,4,4.5,4,9.18,1,0.84\\r\\n313,311,107,4,4.5,4.5,9,1,0.78\\r\\n314,301,100,3,3.5,3,8.04,0,0.67\\r\\n315,305,105,2,3,4,8.13,0,0.66\\r\\n316,308,104,2,2.5,3,8.07,0,0.65\\r\\n317,298,101,2,1.5,2,7.86,0,0.54\\r\\n318,300,99,1,1,2.5,8.01,0,0.58\\r\\n319,324,111,3,2.5,2,8.8,1,0.79\\r\\n320,327,113,4,3.5,3,8.69,1,0.8\\r\\n321,317,106,3,4,3.5,8.5,1,0.75\\r\\n322,323,104,3,4,4,8.44,1,0.73\\r\\n323,314,107,2,2.5,4,8.27,0,0.72\\r\\n324,305,102,2,2,2.5,8.18,0,0.62\\r\\n325,315,104,3,3,2.5,8.33,0,0.67\\r\\n326,326,116,3,3.5,4,9.14,1,0.81\\r\\n327,299,100,3,2,2,8.02,0,0.63\\r\\n328,295,101,2,2.5,2,7.86,0,0.69\\r\\n329,324,112,4,4,3.5,8.77,1,0.8\\r\\n330,297,96,2,2.5,1.5,7.89,0,0.43\\r\\n331,327,113,3,3.5,3,8.66,1,0.8\\r\\n332,311,105,2,3,2,8.12,1,0.73\\r\\n333,308,106,3,3.5,2.5,8.21,1,0.75\\r\\n334,319,108,3,3,3.5,8.54,1,0.71\\r\\n335,312,107,4,4.5,4,8.65,1,0.73\\r\\n336,325,111,4,4,4.5,9.11,1,0.83\\r\\n337,319,110,3,3,2.5,8.79,0,0.72\\r\\n338,332,118,5,5,5,9.47,1,0.94\\r\\n339,323,108,5,4,4,8.74,1,0.81\\r\\n340,324,107,5,3.5,4,8.66,1,0.81\\r\\n341,312,107,3,3,3,8.46,1,0.75\\r\\n342,326,110,3,3.5,3.5,8.76,1,0.79\\r\\n343,308,106,3,3,3,8.24,0,0.58\\r\\n344,305,103,2,2.5,3.5,8.13,0,0.59\\r\\n345,295,96,2,1.5,2,7.34,0,0.47\\r\\n346,316,98,1,1.5,2,7.43,0,0.49\\r\\n347,304,97,2,1.5,2,7.64,0,0.47\\r\\n348,299,94,1,1,1,7.34,0,0.42\\r\\n349,302,99,1,2,2,7.25,0,0.57\\r\\n350,313,101,3,2.5,3,8.04,0,0.62\\r\\n351,318,107,3,3,3.5,8.27,1,0.74\\r\\n352,325,110,4,3.5,4,8.67,1,0.73\\r\\n353,303,100,2,3,3.5,8.06,1,0.64\\r\\n354,300,102,3,3.5,2.5,8.17,0,0.63\\r\\n355,297,98,2,2.5,3,7.67,0,0.59\\r\\n356,317,106,2,2,3.5,8.12,0,0.73\\r\\n357,327,109,3,3.5,4,8.77,1,0.79\\r\\n358,301,104,2,3.5,3.5,7.89,1,0.68\\r\\n359,314,105,2,2.5,2,7.64,0,0.7\\r\\n360,321,107,2,2,1.5,8.44,0,0.81\\r\\n361,322,110,3,4,5,8.64,1,0.85\\r\\n362,334,116,4,4,3.5,9.54,1,0.93\\r\\n363,338,115,5,4.5,5,9.23,1,0.91\\r\\n364,306,103,2,2.5,3,8.36,0,0.69\\r\\n365,313,102,3,3.5,4,8.9,1,0.77\\r\\n366,330,114,4,4.5,3,9.17,1,0.86\\r\\n367,320,104,3,3.5,4.5,8.34,1,0.74\\r\\n368,311,98,1,1,2.5,7.46,0,0.57\\r\\n369,298,92,1,2,2,7.88,0,0.51\\r\\n370,301,98,1,2,3,8.03,1,0.67\\r\\n371,310,103,2,2.5,2.5,8.24,0,0.72\\r\\n372,324,110,3,3.5,3,9.22,1,0.89\\r\\n373,336,119,4,4.5,4,9.62,1,0.95\\r\\n374,321,109,3,3,3,8.54,1,0.79\\r\\n375,315,105,2,2,2.5,7.65,0,0.39\\r\\n376,304,101,2,2,2.5,7.66,0,0.38\\r\\n377,297,96,2,2.5,2,7.43,0,0.34\\r\\n378,290,100,1,1.5,2,7.56,0,0.47\\r\\n379,303,98,1,2,2.5,7.65,0,0.56\\r\\n380,311,99,1,2.5,3,8.43,1,0.71\\r\\n381,322,104,3,3.5,4,8.84,1,0.78\\r\\n382,319,105,3,3,3.5,8.67,1,0.73\\r\\n383,324,110,4,4.5,4,9.15,1,0.82\\r\\n384,300,100,3,3,3.5,8.26,0,0.62\\r\\n385,340,113,4,5,5,9.74,1,0.96\\r\\n386,335,117,5,5,5,9.82,1,0.96\\r\\n387,302,101,2,2.5,3.5,7.96,0,0.46\\r\\n388,307,105,2,2,3.5,8.1,0,0.53\\r\\n389,296,97,2,1.5,2,7.8,0,0.49\\r\\n390,320,108,3,3.5,4,8.44,1,0.76\\r\\n391,314,102,2,2,2.5,8.24,0,0.64\\r\\n392,318,106,3,2,3,8.65,0,0.71\\r\\n393,326,112,4,4,3.5,9.12,1,0.84\\r\\n394,317,104,2,3,3,8.76,0,0.77\\r\\n395,329,111,4,4.5,4,9.23,1,0.89\\r\\n396,324,110,3,3.5,3.5,9.04,1,0.82\\r\\n397,325,107,3,3,3.5,9.11,1,0.84\\r\\n398,330,116,4,5,4.5,9.45,1,0.91\\r\\n399,312,103,3,3.5,4,8.78,0,0.67\\r\\n400,333,117,4,5,4,9.66,1,0.95\\r\\n401,304,100,2,3.5,3,8.22,0,0.63\\r\\n402,315,105,2,3,3,8.34,0,0.66\\r\\n403,324,109,3,3.5,3,8.94,1,0.78\\r\\n404,330,116,4,4,3.5,9.23,1,0.91\\r\\n405,311,101,3,2,2.5,7.64,1,0.62\\r\\n406,302,99,3,2.5,3,7.45,0,0.52\\r\\n407,322,103,4,3,2.5,8.02,1,0.61\\r\\n408,298,100,3,2.5,4,7.95,1,0.58\\r\\n409,297,101,3,2,4,7.67,1,0.57\\r\\n410,300,98,1,2,2.5,8.02,0,0.61\\r\\n411,301,96,1,3,4,7.56,0,0.54\\r\\n412,313,94,2,2.5,1.5,8.13,0,0.56\\r\\n413,314,102,4,2.5,2,7.88,1,0.59\\r\\n414,317,101,3,3,2,7.94,1,0.49\\r\\n415,321,110,4,3.5,4,8.35,1,0.72\\r\\n416,327,106,4,4,4.5,8.75,1,0.76\\r\\n417,315,104,3,4,2.5,8.1,0,0.65\\r\\n418,316,103,3,3.5,2,7.68,0,0.52\\r\\n419,309,111,2,2.5,4,8.03,0,0.6\\r\\n420,308,102,2,2,3.5,7.98,1,0.58\\r\\n421,299,100,3,2,3,7.42,0,0.42\\r\\n422,321,112,3,3,4.5,8.95,1,0.77\\r\\n423,322,112,4,3.5,2.5,9.02,1,0.73\\r\\n424,334,119,5,4.5,5,9.54,1,0.94\\r\\n425,325,114,5,4,5,9.46,1,0.91\\r\\n426,323,111,5,4,5,9.86,1,0.92\\r\\n427,312,106,3,3,5,8.57,0,0.71\\r\\n428,310,101,3,3.5,5,8.65,1,0.71\\r\\n429,316,103,2,2,4.5,8.74,0,0.69\\r\\n430,340,115,5,5,4.5,9.06,1,0.95\\r\\n431,311,104,3,4,3.5,8.13,1,0.74\\r\\n432,320,112,2,3.5,3.5,8.78,1,0.73\\r\\n433,324,112,4,4.5,4,9.22,1,0.86\\r\\n434,316,111,4,4,5,8.54,0,0.71\\r\\n435,306,103,3,3.5,3,8.21,0,0.64\\r\\n436,309,105,2,2.5,4,7.68,0,0.55\\r\\n437,310,110,1,1.5,4,7.23,1,0.58\\r\\n438,317,106,1,1.5,3.5,7.65,1,0.61\\r\\n439,318,110,1,2.5,3.5,8.54,1,0.67\\r\\n440,312,105,2,1.5,3,8.46,0,0.66\\r\\n441,305,104,2,2.5,1.5,7.79,0,0.53\\r\\n442,332,112,1,1.5,3,8.66,1,0.79\\r\\n443,331,116,4,4.5,4.5,9.44,1,0.92\\r\\n444,321,114,5,4.5,4.5,9.16,1,0.87\\r\\n445,324,113,5,4,5,9.25,1,0.92\\r\\n446,328,116,5,4.5,5,9.08,1,0.91\\r\\n447,327,118,4,5,5,9.67,1,0.93\\r\\n448,320,108,3,3.5,5,8.97,1,0.84\\r\\n449,312,109,2,2.5,4,9.02,0,0.8\\r\\n450,315,101,3,3.5,4.5,9.13,0,0.79\\r\\n451,320,112,4,3,4.5,8.86,1,0.82\\r\\n452,324,113,4,4.5,4.5,9.25,1,0.89\\r\\n453,328,116,4,5,3.5,9.6,1,0.93\\r\\n454,319,103,3,2.5,4,8.76,1,0.73\\r\\n455,310,105,2,3,3.5,8.01,0,0.71\\r\\n456,305,102,2,1.5,2.5,7.64,0,0.59\\r\\n457,299,100,2,2,2,7.88,0,0.51\\r\\n458,295,99,1,2,1.5,7.57,0,0.37\\r\\n459,312,100,1,3,3,8.53,1,0.69\\r\\n460,329,113,4,4,3.5,9.36,1,0.89\\r\\n461,319,105,4,4,4.5,8.66,1,0.77\\r\\n462,301,102,3,2.5,2,8.13,1,0.68\\r\\n463,307,105,4,3,3,7.94,0,0.62\\r\\n464,304,107,3,3.5,3,7.86,0,0.57\\r\\n465,298,97,2,2,3,7.21,0,0.45\\r\\n466,305,96,4,3,4.5,8.26,0,0.54\\r\\n467,314,99,4,3.5,4.5,8.73,1,0.71\\r\\n468,318,101,5,3.5,5,8.78,1,0.78\\r\\n469,323,110,4,4,5,8.88,1,0.81\\r\\n470,326,114,4,4,3.5,9.16,1,0.86\\r\\n471,320,110,5,4,4,9.27,1,0.87\\r\\n472,311,103,3,2,4,8.09,0,0.64\\r\\n473,327,116,4,4,4.5,9.48,1,0.9\\r\\n474,316,102,2,4,3.5,8.15,0,0.67\\r\\n475,308,105,4,3,2.5,7.95,1,0.67\\r\\n476,300,101,3,3.5,2.5,7.88,0,0.59\\r\\n477,304,104,3,2.5,2,8.12,0,0.62\\r\\n478,309,105,4,3.5,2,8.18,0,0.65\\r\\n479,318,103,3,4,4.5,8.49,1,0.71\\r\\n480,325,110,4,4.5,4,8.96,1,0.79\\r\\n481,321,102,3,3.5,4,9.01,1,0.8\\r\\n482,323,107,4,3,2.5,8.48,1,0.78\\r\\n483,328,113,4,4,2.5,8.77,1,0.83\\r\\n484,304,103,5,5,3,7.92,0,0.71\\r\\n485,317,106,3,3.5,3,7.89,1,0.73\\r\\n486,311,101,2,2.5,3.5,8.34,1,0.7\\r\\n487,319,102,3,2.5,2.5,8.37,0,0.68\\r\\n488,327,115,4,3.5,4,9.14,0,0.79\\r\\n489,322,112,3,3,4,8.62,1,0.76\\r\\n490,302,110,3,4,4.5,8.5,0,0.65\\r\\n491,307,105,2,2.5,4.5,8.12,1,0.67\\r\\n492,297,99,4,3,3.5,7.81,0,0.54\\r\\n493,298,101,4,2.5,4.5,7.69,1,0.53\\r\\n494,300,95,2,3,1.5,8.22,1,0.62\\r\\n495,301,99,3,2.5,2,8.45,1,0.68\\r\\n496,332,108,5,4.5,4,9.02,1,0.87\\r\\n497,337,117,5,5,5,9.87,1,0.96\\r\\n498,330,120,5,4.5,5,9.56,1,0.93\\r\\n499,312,103,4,4,5,8.43,0,0.73\\r\\n500,327,113,4,4.5,4.5,9.04,0,0.84'}"
            ]
          },
          "metadata": {
            "tags": []
          },
          "execution_count": 6
        }
      ]
    },
    {
      "cell_type": "code",
      "metadata": {
        "id": "QO9LH13hFgdI",
        "colab_type": "code",
        "colab": {
          "base_uri": "https://localhost:8080/",
          "height": 34
        },
        "outputId": "96b145f6-e312-482a-c111-1025dc9f5478"
      },
      "source": [
        "ls"
      ],
      "execution_count": 7,
      "outputs": [
        {
          "output_type": "stream",
          "text": [
            "Admission_Predict_Ver1.1.csv  \u001b[0m\u001b[01;34msample_data\u001b[0m/\n"
          ],
          "name": "stdout"
        }
      ]
    },
    {
      "cell_type": "code",
      "metadata": {
        "id": "_ANbP5-iKkTu",
        "colab_type": "code",
        "colab": {
          "base_uri": "https://localhost:8080/",
          "height": 1000
        },
        "outputId": "a0289a77-0c00-406b-e2b2-72d575e8ff9b"
      },
      "source": [
        "!pip install tensorflow==2.0.0"
      ],
      "execution_count": 3,
      "outputs": [
        {
          "output_type": "stream",
          "text": [
            "Collecting tensorflow==2.0.0\n",
            "\u001b[?25l  Downloading https://files.pythonhosted.org/packages/46/0f/7bd55361168bb32796b360ad15a25de6966c9c1beb58a8e30c01c8279862/tensorflow-2.0.0-cp36-cp36m-manylinux2010_x86_64.whl (86.3MB)\n",
            "\u001b[K     |████████████████████████████████| 86.3MB 115kB/s \n",
            "\u001b[?25hRequirement already satisfied: keras-applications>=1.0.8 in /usr/local/lib/python3.6/dist-packages (from tensorflow==2.0.0) (1.0.8)\n",
            "Collecting tensorboard<2.1.0,>=2.0.0\n",
            "\u001b[?25l  Downloading https://files.pythonhosted.org/packages/76/54/99b9d5d52d5cb732f099baaaf7740403e83fe6b0cedde940fabd2b13d75a/tensorboard-2.0.2-py3-none-any.whl (3.8MB)\n",
            "\u001b[K     |████████████████████████████████| 3.8MB 28.9MB/s \n",
            "\u001b[?25hRequirement already satisfied: wrapt>=1.11.1 in /usr/local/lib/python3.6/dist-packages (from tensorflow==2.0.0) (1.11.2)\n",
            "Requirement already satisfied: wheel>=0.26 in /usr/local/lib/python3.6/dist-packages (from tensorflow==2.0.0) (0.33.6)\n",
            "Requirement already satisfied: protobuf>=3.6.1 in /usr/local/lib/python3.6/dist-packages (from tensorflow==2.0.0) (3.10.0)\n",
            "Requirement already satisfied: absl-py>=0.7.0 in /usr/local/lib/python3.6/dist-packages (from tensorflow==2.0.0) (0.8.1)\n",
            "Requirement already satisfied: six>=1.10.0 in /usr/local/lib/python3.6/dist-packages (from tensorflow==2.0.0) (1.12.0)\n",
            "Requirement already satisfied: grpcio>=1.8.6 in /usr/local/lib/python3.6/dist-packages (from tensorflow==2.0.0) (1.15.0)\n",
            "Requirement already satisfied: google-pasta>=0.1.6 in /usr/local/lib/python3.6/dist-packages (from tensorflow==2.0.0) (0.1.8)\n",
            "Requirement already satisfied: gast==0.2.2 in /usr/local/lib/python3.6/dist-packages (from tensorflow==2.0.0) (0.2.2)\n",
            "Requirement already satisfied: numpy<2.0,>=1.16.0 in /usr/local/lib/python3.6/dist-packages (from tensorflow==2.0.0) (1.17.4)\n",
            "Requirement already satisfied: keras-preprocessing>=1.0.5 in /usr/local/lib/python3.6/dist-packages (from tensorflow==2.0.0) (1.1.0)\n",
            "Requirement already satisfied: opt-einsum>=2.3.2 in /usr/local/lib/python3.6/dist-packages (from tensorflow==2.0.0) (3.1.0)\n",
            "Collecting tensorflow-estimator<2.1.0,>=2.0.0\n",
            "\u001b[?25l  Downloading https://files.pythonhosted.org/packages/fc/08/8b927337b7019c374719145d1dceba21a8bb909b93b1ad6f8fb7d22c1ca1/tensorflow_estimator-2.0.1-py2.py3-none-any.whl (449kB)\n",
            "\u001b[K     |████████████████████████████████| 450kB 46.3MB/s \n",
            "\u001b[?25hRequirement already satisfied: termcolor>=1.1.0 in /usr/local/lib/python3.6/dist-packages (from tensorflow==2.0.0) (1.1.0)\n",
            "Requirement already satisfied: astor>=0.6.0 in /usr/local/lib/python3.6/dist-packages (from tensorflow==2.0.0) (0.8.0)\n",
            "Requirement already satisfied: h5py in /usr/local/lib/python3.6/dist-packages (from keras-applications>=1.0.8->tensorflow==2.0.0) (2.8.0)\n",
            "Requirement already satisfied: google-auth-oauthlib<0.5,>=0.4.1 in /usr/local/lib/python3.6/dist-packages (from tensorboard<2.1.0,>=2.0.0->tensorflow==2.0.0) (0.4.1)\n",
            "Requirement already satisfied: markdown>=2.6.8 in /usr/local/lib/python3.6/dist-packages (from tensorboard<2.1.0,>=2.0.0->tensorflow==2.0.0) (3.1.1)\n",
            "Requirement already satisfied: requests<3,>=2.21.0 in /usr/local/lib/python3.6/dist-packages (from tensorboard<2.1.0,>=2.0.0->tensorflow==2.0.0) (2.21.0)\n",
            "Requirement already satisfied: werkzeug>=0.11.15 in /usr/local/lib/python3.6/dist-packages (from tensorboard<2.1.0,>=2.0.0->tensorflow==2.0.0) (0.16.0)\n",
            "Collecting google-auth<2,>=1.6.3\n",
            "\u001b[?25l  Downloading https://files.pythonhosted.org/packages/7b/cb/786dc53d93494784935a62947643b48250b84a882474e714f9af5e1a1928/google_auth-1.7.1-py2.py3-none-any.whl (74kB)\n",
            "\u001b[K     |████████████████████████████████| 81kB 10.4MB/s \n",
            "\u001b[?25hRequirement already satisfied: setuptools>=41.0.0 in /usr/local/lib/python3.6/dist-packages (from tensorboard<2.1.0,>=2.0.0->tensorflow==2.0.0) (41.6.0)\n",
            "Requirement already satisfied: requests-oauthlib>=0.7.0 in /usr/local/lib/python3.6/dist-packages (from google-auth-oauthlib<0.5,>=0.4.1->tensorboard<2.1.0,>=2.0.0->tensorflow==2.0.0) (1.3.0)\n",
            "Requirement already satisfied: idna<2.9,>=2.5 in /usr/local/lib/python3.6/dist-packages (from requests<3,>=2.21.0->tensorboard<2.1.0,>=2.0.0->tensorflow==2.0.0) (2.8)\n",
            "Requirement already satisfied: urllib3<1.25,>=1.21.1 in /usr/local/lib/python3.6/dist-packages (from requests<3,>=2.21.0->tensorboard<2.1.0,>=2.0.0->tensorflow==2.0.0) (1.24.3)\n",
            "Requirement already satisfied: certifi>=2017.4.17 in /usr/local/lib/python3.6/dist-packages (from requests<3,>=2.21.0->tensorboard<2.1.0,>=2.0.0->tensorflow==2.0.0) (2019.9.11)\n",
            "Requirement already satisfied: chardet<3.1.0,>=3.0.2 in /usr/local/lib/python3.6/dist-packages (from requests<3,>=2.21.0->tensorboard<2.1.0,>=2.0.0->tensorflow==2.0.0) (3.0.4)\n",
            "Requirement already satisfied: rsa<4.1,>=3.1.4 in /usr/local/lib/python3.6/dist-packages (from google-auth<2,>=1.6.3->tensorboard<2.1.0,>=2.0.0->tensorflow==2.0.0) (4.0)\n",
            "Requirement already satisfied: cachetools<3.2,>=2.0.0 in /usr/local/lib/python3.6/dist-packages (from google-auth<2,>=1.6.3->tensorboard<2.1.0,>=2.0.0->tensorflow==2.0.0) (3.1.1)\n",
            "Requirement already satisfied: pyasn1-modules>=0.2.1 in /usr/local/lib/python3.6/dist-packages (from google-auth<2,>=1.6.3->tensorboard<2.1.0,>=2.0.0->tensorflow==2.0.0) (0.2.7)\n",
            "Requirement already satisfied: oauthlib>=3.0.0 in /usr/local/lib/python3.6/dist-packages (from requests-oauthlib>=0.7.0->google-auth-oauthlib<0.5,>=0.4.1->tensorboard<2.1.0,>=2.0.0->tensorflow==2.0.0) (3.1.0)\n",
            "Requirement already satisfied: pyasn1>=0.1.3 in /usr/local/lib/python3.6/dist-packages (from rsa<4.1,>=3.1.4->google-auth<2,>=1.6.3->tensorboard<2.1.0,>=2.0.0->tensorflow==2.0.0) (0.4.7)\n",
            "\u001b[31mERROR: tensorboard 2.0.2 has requirement grpcio>=1.24.3, but you'll have grpcio 1.15.0 which is incompatible.\u001b[0m\n",
            "\u001b[31mERROR: google-colab 1.0.0 has requirement google-auth~=1.4.0, but you'll have google-auth 1.7.1 which is incompatible.\u001b[0m\n",
            "Installing collected packages: google-auth, tensorboard, tensorflow-estimator, tensorflow\n",
            "  Found existing installation: google-auth 1.4.2\n",
            "    Uninstalling google-auth-1.4.2:\n",
            "      Successfully uninstalled google-auth-1.4.2\n",
            "  Found existing installation: tensorboard 1.15.0\n",
            "    Uninstalling tensorboard-1.15.0:\n",
            "      Successfully uninstalled tensorboard-1.15.0\n",
            "  Found existing installation: tensorflow-estimator 1.15.1\n",
            "    Uninstalling tensorflow-estimator-1.15.1:\n",
            "      Successfully uninstalled tensorflow-estimator-1.15.1\n",
            "  Found existing installation: tensorflow 1.15.0\n",
            "    Uninstalling tensorflow-1.15.0:\n",
            "      Successfully uninstalled tensorflow-1.15.0\n",
            "Successfully installed google-auth-1.7.1 tensorboard-2.0.2 tensorflow-2.0.0 tensorflow-estimator-2.0.1\n"
          ],
          "name": "stdout"
        },
        {
          "output_type": "display_data",
          "data": {
            "application/vnd.colab-display-data+json": {
              "pip_warning": {
                "packages": [
                  "google"
                ]
              }
            }
          },
          "metadata": {
            "tags": []
          }
        }
      ]
    },
    {
      "cell_type": "code",
      "metadata": {
        "id": "718Y7hJoGCqM",
        "colab_type": "code",
        "colab": {}
      },
      "source": [
        "import pandas as pd\n",
        "import numpy as np\n",
        "import tensorflow as tf\n",
        "from sklearn.model_selection import train_test_split"
      ],
      "execution_count": 0,
      "outputs": []
    },
    {
      "cell_type": "code",
      "metadata": {
        "id": "TnVyVXdgGd2S",
        "colab_type": "code",
        "colab": {
          "base_uri": "https://localhost:8080/",
          "height": 204
        },
        "outputId": "fad1ba29-7768-4f60-d6f9-3e0af4b61668"
      },
      "source": [
        "data = pd.read_csv(\"Admission_Predict_Ver1.1.csv\")\n",
        "data.head()"
      ],
      "execution_count": 9,
      "outputs": [
        {
          "output_type": "execute_result",
          "data": {
            "text/html": [
              "<div>\n",
              "<style scoped>\n",
              "    .dataframe tbody tr th:only-of-type {\n",
              "        vertical-align: middle;\n",
              "    }\n",
              "\n",
              "    .dataframe tbody tr th {\n",
              "        vertical-align: top;\n",
              "    }\n",
              "\n",
              "    .dataframe thead th {\n",
              "        text-align: right;\n",
              "    }\n",
              "</style>\n",
              "<table border=\"1\" class=\"dataframe\">\n",
              "  <thead>\n",
              "    <tr style=\"text-align: right;\">\n",
              "      <th></th>\n",
              "      <th>Serial No.</th>\n",
              "      <th>GRE Score</th>\n",
              "      <th>TOEFL Score</th>\n",
              "      <th>University Rating</th>\n",
              "      <th>SOP</th>\n",
              "      <th>LOR</th>\n",
              "      <th>CGPA</th>\n",
              "      <th>Research</th>\n",
              "      <th>Chance of Admit</th>\n",
              "    </tr>\n",
              "  </thead>\n",
              "  <tbody>\n",
              "    <tr>\n",
              "      <th>0</th>\n",
              "      <td>1</td>\n",
              "      <td>337</td>\n",
              "      <td>118</td>\n",
              "      <td>4</td>\n",
              "      <td>4.5</td>\n",
              "      <td>4.5</td>\n",
              "      <td>9.65</td>\n",
              "      <td>1</td>\n",
              "      <td>0.92</td>\n",
              "    </tr>\n",
              "    <tr>\n",
              "      <th>1</th>\n",
              "      <td>2</td>\n",
              "      <td>324</td>\n",
              "      <td>107</td>\n",
              "      <td>4</td>\n",
              "      <td>4.0</td>\n",
              "      <td>4.5</td>\n",
              "      <td>8.87</td>\n",
              "      <td>1</td>\n",
              "      <td>0.76</td>\n",
              "    </tr>\n",
              "    <tr>\n",
              "      <th>2</th>\n",
              "      <td>3</td>\n",
              "      <td>316</td>\n",
              "      <td>104</td>\n",
              "      <td>3</td>\n",
              "      <td>3.0</td>\n",
              "      <td>3.5</td>\n",
              "      <td>8.00</td>\n",
              "      <td>1</td>\n",
              "      <td>0.72</td>\n",
              "    </tr>\n",
              "    <tr>\n",
              "      <th>3</th>\n",
              "      <td>4</td>\n",
              "      <td>322</td>\n",
              "      <td>110</td>\n",
              "      <td>3</td>\n",
              "      <td>3.5</td>\n",
              "      <td>2.5</td>\n",
              "      <td>8.67</td>\n",
              "      <td>1</td>\n",
              "      <td>0.80</td>\n",
              "    </tr>\n",
              "    <tr>\n",
              "      <th>4</th>\n",
              "      <td>5</td>\n",
              "      <td>314</td>\n",
              "      <td>103</td>\n",
              "      <td>2</td>\n",
              "      <td>2.0</td>\n",
              "      <td>3.0</td>\n",
              "      <td>8.21</td>\n",
              "      <td>0</td>\n",
              "      <td>0.65</td>\n",
              "    </tr>\n",
              "  </tbody>\n",
              "</table>\n",
              "</div>"
            ],
            "text/plain": [
              "   Serial No.  GRE Score  TOEFL Score  ...  CGPA  Research  Chance of Admit \n",
              "0           1        337          118  ...  9.65         1              0.92\n",
              "1           2        324          107  ...  8.87         1              0.76\n",
              "2           3        316          104  ...  8.00         1              0.72\n",
              "3           4        322          110  ...  8.67         1              0.80\n",
              "4           5        314          103  ...  8.21         0              0.65\n",
              "\n",
              "[5 rows x 9 columns]"
            ]
          },
          "metadata": {
            "tags": []
          },
          "execution_count": 9
        }
      ]
    },
    {
      "cell_type": "code",
      "metadata": {
        "id": "r1C4sqppGgSg",
        "colab_type": "code",
        "colab": {}
      },
      "source": [
        "continuous_features = data[ ['GRE Score','TOEFL Score','University Rating','SOP','LOR ','CGPA'] ].values / 100 \n",
        "categorical_research_features = data[ [ 'Research' ] ].values "
      ],
      "execution_count": 0,
      "outputs": []
    },
    {
      "cell_type": "code",
      "metadata": {
        "id": "YF0WmM4RHO15",
        "colab_type": "code",
        "colab": {}
      },
      "source": [
        "X = np.concatenate([continuous_features,categorical_research_features],axis =1)\n",
        "Y = data[['Chance of Admit ']].values"
      ],
      "execution_count": 0,
      "outputs": []
    },
    {
      "cell_type": "code",
      "metadata": {
        "id": "XjmAzoRgIVNZ",
        "colab_type": "code",
        "colab": {}
      },
      "source": [
        "train_features, test_features,train_labels, test_labels = train_test_split(X,Y,test_size= 0.2)\n"
      ],
      "execution_count": 0,
      "outputs": []
    },
    {
      "cell_type": "code",
      "metadata": {
        "id": "P6cQYayQIjtI",
        "colab_type": "code",
        "colab": {}
      },
      "source": [
        "X = tf.constant(train_features,dtype=tf.float32)\n",
        "Y = tf.constant(train_labels,dtype=tf.float32)\n"
      ],
      "execution_count": 0,
      "outputs": []
    },
    {
      "cell_type": "code",
      "metadata": {
        "id": "KHMQon4aIwuK",
        "colab_type": "code",
        "colab": {}
      },
      "source": [
        "test_X = tf.constant(test_features,dtype =tf.float32)\n",
        "test_Y = tf.constant(test_labels, dtype= tf.float32)\n"
      ],
      "execution_count": 0,
      "outputs": []
    },
    {
      "cell_type": "code",
      "metadata": {
        "id": "mtbPu7yZJDIA",
        "colab_type": "code",
        "colab": {}
      },
      "source": [
        "def mean_squared_error(Y,y_pred):\n",
        "  return tf.reduce_mean(tf.square(y_pred-Y))\n",
        "\n",
        "def mean_squared_error_deriv(Y,y_pred):\n",
        "  return tf.reshape(tf.reduce_mean(2*(y_pred - Y)),[1,1])\n",
        "\n",
        "#Hypothesis Function/ Regression Functionn\n",
        "def h(X,weights,bias): \n",
        "  return tf.tensordot(X,weights,axes=1)+bias\n"
      ],
      "execution_count": 0,
      "outputs": []
    },
    {
      "cell_type": "code",
      "metadata": {
        "id": "yGoZaC2aJy7G",
        "colab_type": "code",
        "colab": {}
      },
      "source": [
        "num_epochs = 10\n",
        "num_samples = X.shape[0]\n",
        "batch_size = 10\n",
        "learning_rate = 0.001\n"
      ],
      "execution_count": 0,
      "outputs": []
    },
    {
      "cell_type": "code",
      "metadata": {
        "id": "E62ahuw9J-Kx",
        "colab_type": "code",
        "colab": {}
      },
      "source": [
        "dataset = tf.data.Dataset.from_tensor_slices(( X , Y )) \n",
        "dataset = dataset.shuffle( 500 ).repeat( num_epochs ).batch( batch_size )\n",
        "iterator = dataset.__iter__()"
      ],
      "execution_count": 0,
      "outputs": []
    },
    {
      "cell_type": "code",
      "metadata": {
        "id": "8YWmkQexKPcI",
        "colab_type": "code",
        "colab": {
          "base_uri": "https://localhost:8080/",
          "height": 187
        },
        "outputId": "2d1cca98-2c6b-44da-b306-7f7b82db2c08"
      },
      "source": [
        "num_features = X.shape[1]\n",
        "weights = tf.random.normal( ( num_features , 1 ) ) \n",
        "bias = 0\n",
        "\n",
        "epochs_plot = list()\n",
        "loss_plot = list()\n",
        "\n",
        "for i in range( num_epochs ) :\n",
        "    \n",
        "    epoch_loss = list()\n",
        "    for b in range( int(num_samples/batch_size) ):\n",
        "        x_batch , y_batch = iterator.get_next()\n",
        "   \n",
        "        output = h( x_batch , weights , bias ) \n",
        "        loss = epoch_loss.append( mean_squared_error( y_batch , output ).numpy() )\n",
        "    \n",
        "        dJ_dH = mean_squared_error_deriv( y_batch , output)\n",
        "        dH_dW = x_batch\n",
        "        dJ_dW = tf.reduce_mean( dJ_dH * dH_dW )\n",
        "        dJ_dB = tf.reduce_mean( dJ_dH )\n",
        "    \n",
        "        weights -= ( learning_rate * dJ_dW )\n",
        "        bias -= ( learning_rate * dJ_dB ) \n",
        "        \n",
        "    loss = np.array( epoch_loss ).mean()\n",
        "    epochs_plot.append( i + 1 )\n",
        "    loss_plot.append( loss ) \n",
        "    \n",
        "    print( 'Loss is {}'.format( loss ) ) "
      ],
      "execution_count": 22,
      "outputs": [
        {
          "output_type": "stream",
          "text": [
            "Loss is 4.607170104980469\n",
            "Loss is 2.247016668319702\n",
            "Loss is 1.1160008907318115\n",
            "Loss is 0.5768970251083374\n",
            "Loss is 0.3188936114311218\n",
            "Loss is 0.19641605019569397\n",
            "Loss is 0.13934828341007233\n",
            "Loss is 0.11298103630542755\n",
            "Loss is 0.10078523308038712\n",
            "Loss is 0.0954873338341713\n"
          ],
          "name": "stdout"
        }
      ]
    },
    {
      "cell_type": "code",
      "metadata": {
        "id": "BTruupWgLAqU",
        "colab_type": "code",
        "colab": {
          "base_uri": "https://localhost:8080/",
          "height": 265
        },
        "outputId": "afc73fee-cb81-447a-b939-0960012c1951"
      },
      "source": [
        "import matplotlib.pyplot as plt\n",
        "\n",
        "plt.plot(epochs_plot,loss_plot)\n",
        "plt.show()"
      ],
      "execution_count": 23,
      "outputs": [
        {
          "output_type": "display_data",
          "data": {
            "image/png": "[encoded data removed]",
            "text/plain": [
              "<Figure size 432x288 with 1 Axes>"
            ]
          },
          "metadata": {
            "tags": []
          }
        }
      ]
    },
    {
      "cell_type": "code",
      "metadata": {
        "id": "6yTO-ylhOdJb",
        "colab_type": "code",
        "colab": {}
      },
      "source": [
        ""
      ],
      "execution_count": 0,
      "outputs": []
    }
  ]
}